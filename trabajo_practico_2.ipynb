{
 "cells": [
  {
   "cell_type": "markdown",
   "metadata": {},
   "source": [
    "# Organización de Datos (9558)\n",
    "\n",
    "## Trabajo Práctico N° 2\n",
    "\n",
    "#### Fecha: 2017-06-22\n",
    "\n",
    "#### Integrantes:\n",
    "\n",
    "\n",
    "#### Repo:\n",
    "[link]()"
   ]
  },
  {
   "cell_type": "markdown",
   "metadata": {},
   "source": [
    "---\n",
    "*toc*"
   ]
  },
  {
   "cell_type": "markdown",
   "metadata": {},
   "source": [
    "---\n",
    "#### Enunciado\n",
    "\n",
    "El segundo TP es una competencia de Machine Learning en donde cada grupo debe intentar predecir la duración de los viajes en base a los datos de los mismos. La competencia se desarrolla en la plataforma de Kaggle, se provee un archivo \"train.csv\" que debe ser usado para entrenar un modelo de Machine Learning y un archivo \"test.csv\" que tiene los datos de los viajes a predecir. Adicionalmente pueden usarse los datos de las estaciones, del status de cada estación minuto a minuto y la información meteorológica.\n",
    "\n",
    "ADVERTENCIA MUY IMPORTANTE: Dado que los datos son públicos los resultados de la competencia ya se saben, son parte de los datos del TP1, es fundamental que ningún grupo suba a Kaggle submissions que usan esta información ya que distorsiona el score de la competencia y una vez subido un submission es IMPOSIBLE ELIMINARLO. Los submissions\n",
    "deben generarse en base a un modelo de machine learning y nunca en base a los resultados que ya se conocen.\n",
    "\n",
    "TL;DR: NO SUBIR A KAGGLE SUBMISSIONS QUE HACEN TRAMPA, ES IMPOSIBLE BORRARLOS!!!\n",
    "\n",
    "Los grupos deberán probar distintos algoritmos de Machine Learning para predecir la duración de los viajes en base a los datos de los mismos. A medida que los grupos realicen pruebas deben realizar el correspondiente submit en Kaggle para evaluar el resultado de los mismos. Al finalizar la competencia el grupo que mejor resultado tenga obtendrá 10 puntos para cada uno de sus integrantes que podrán ser usados en el examen por promoción o segundo recuperatorio.\n",
    "\n",
    "Requisitos para la entrega del TP2:\n",
    "1. El TP debe programarse en Python o R\n",
    "- Debe entregarse una carpeta con el informe de algoritmos probados, algoritmo final utilizado, transformaciones realizadas a los datos, feature engineering, etc.\n",
    "- El grupo debe presentar el TP en una computadora en la fecha indicada por la cátedra, el TP debe correr en un lapso de tiempo razonable (inferior a 1 hora) y generar un submission válido que iguale el mejor resultado obtenido por el grupo en Kaggle.\n",
    "\n",
    "El TP2 se va a evaluar en función del siguiente criterio:\n",
    "1. Cantidad de trabajo (esfuerzo) del grupo: ¿Probaron muchos algoritmos? ¿Hicieron un buen trabajo de pre-procesamiento de los datos y feature engineering?\n",
    "- Resultado obtenido en Kaggle (obviamente cuanto mejor resultado mejor nota)\n",
    "- Presentación final del informe, calidad de la redacción, uso de información obtenida en el TP1, conclusiones presentadas.\n",
    "- Performance de la solución final.\n",
    "\n",
    "\n",
    "ADVERTENCIA IMPORTANTE #2: Bajo ningún concepto debe interpretarse que es necesario finalizar el TP1 para poder comenzar el TP2, quienes incurran en este error se encontrarán que el tiempo necesario para desarrollar el TP2 es insuficiente. Es fundamental, imprescindible y vital comenzar el desarrollo del TP2 en forma paralela al TP1 para evitar problemas en el cumpimiento de las fechas de entrega."
   ]
  },
  {
   "cell_type": "markdown",
   "metadata": {},
   "source": [
    "---\n",
    "#### [Descipción](https://inclass.kaggle.com/c/san-francisco-biking)\n",
    "\n",
    "El propósito de esta competencia es predecir la duración de los viajes.\n",
    "\n",
    "El objetivo de esta competencia es predecir la duración de los viajes de acuerdo a los datos de los mismos, la información meteorológica, etc.\n",
    "\n",
    "Pueden usarse los siguientes archivos disponibles en:\n",
    "\n",
    "https://www.kaggle.com/benhamner/sf-bay-area-bike-share\n",
    "\n",
    "    .status\n",
    "    .station \n",
    "    .weather\n",
    "\n",
    "Para los viajes debe usarse el archivo train.csv provisto par entrenar el modelo y el archivo test.csv tiene los datos de los viajes a predecir.\n",
    "\n",
    "IMPORTANTE: El archivo trips.csv del TP anterior tiene los resultados que queremos predecir, estos resultados NO DEBEN usarse de ninguna forma para el entrenamiento del modelo. No subir a Kaggle ningún submission que sea generado a partir de estos datos ya que afecta la evaluación de la competencia y NO ES POSIBLE ELIMINAR SUBMISSIONS. "
   ]
  },
  {
   "cell_type": "markdown",
   "metadata": {},
   "source": [
    "---\n",
    "#### [Evaluación y Formato de Entrega](https://inclass.kaggle.com/c/san-francisco-biking/details/evaluation)\n",
    "\n",
    "La evaluación es por Mean Squared Error es decir la diferencia de cuadrados entre la duración real del viaje y la duración que se predice mediante el modelo de Machine Learning usado.\n",
    "\n",
    "El formato de submission es un archivo .csv de la forma:\n",
    "\n",
    "    id,duration\n",
    "    1,1\n",
    "    8,8\n",
    "    9,9 10\n",
    "    10,10 9\n",
    "    etc.\n",
    "\n",
    "(Acá no me queda claro cómo es el formato del archivo con las predicciones). -mk"
   ]
  },
  {
   "cell_type": "markdown",
   "metadata": {},
   "source": [
    "---\n",
    "#### Conclusiones del TP 1\n",
    "\n",
    "*conclusiones*\n",
    "\n",
    "> Los usuarios del serivicio, en su mayoria, lo utiliza para trasladarse al trabajo.\n",
    "\n",
    "> Ya conocemos cuáles son los datos a filtrar."
   ]
  },
  {
   "cell_type": "markdown",
   "metadata": {},
   "source": [
    "---\n",
    "(Cómo manejamos los datos? Si vamos a utilizar un API (por ejemplo tensorflow) Cómo se utiliza? Todos sabemos usarlo? Qué complicaciones puede traer? Qué puede facilitar? Hay otras alternativas? Cúales? Son mas simples?) -mk\n",
    "\n",
    "#### Introduciendo a la API\n",
    "\n",
    "[tensorflow](https://www.tensorflow.org/get_started/get_started)\n",
    "\n",
    "(En el link, hay explicaciones de las estructuras utilizadas en tensorflow.)\n",
    "\n",
    "Asumiendo que utilizamos tensorflow, podemos armar un modelo basico.\n",
    "\n",
    "__Ejemplo de una parte del modelo__\n",
    "\n",
    "Un dato entra, separamos las partes (o dimensiones) que consideramos importantes, realizamos cálculos con ellos y devolvemos un resultado.\n",
    "\n",
    "Una parte del algoritmo (un *nodo* en tensorflow), podría tomar como parámetros a las id's de las estaciones y devolver la distancia entre ellas. Luego la distancia, irá por otras partes del modelo que serán utilizadas para determinar el resultado final que es la duración del viaje.\n",
    "\n",
    "(Acá van las consideraciones de la api, (que estructuras de datos estan disponibles, como se pueden utilizar y como las VAMOS a utilizar). Despues en __plan__, ya juntamos todas las consideraciones y formamos el plan) -mk"
   ]
  },
  {
   "cell_type": "markdown",
   "metadata": {},
   "source": [
    "---\n",
    "#### Sets de Datos\n",
    "\n",
    "Los sets de datos son:\n",
    "\n",
    ">[Entrenamiento y testeo](https://inclass.kaggle.com/c/san-francisco-biking/data)\n",
    "\n",
    ">[Set de datos del TP1](https://www.kaggle.com/benhamner/sf-bay-area-bike-share) (excluyendo a trips.csv)\n",
    "\n",
    "---\n",
    "(quitar esta sección. Está sólo para aclarar los métodos para obtener una mejor performance en tanto a las predicciones del algoritmo. Pero eso se debe realizar luego de armar el modelo)\n",
    "##### Dividiendo al set de entrenamiento\n",
    "\n",
    "__Bootstrapping:__\n",
    "\n",
    "1. Tomamos n muestras del set de entrenamiento (con reemplazo, el dato puede repetirse) y corremos el algoritmo para esas n muestras.\n",
    "2. Con esto generamos n modelos distintos.\n",
    "3. Luego corremos el set de testing con esos n modelos, y llegamos a un resultado por votación (promediando).\n",
    "\n",
    "La técnica de bagging disminuye la posibilidad de overfitting\n",
    "\n",
    "Como cada clasificador no ve la totalidad de los registros del set de entrenamiento ninguno de los n clasificadores individuales puede sobre-ajustar.\n",
    "\n",
    "Registros OOB (Out of Bag), es decir fuera del bagging se usan para ver la precisión del algoritmo. (como se fuera de un set de validación).\n",
    "\n",
    "Promedio de precisión de los registros OOB se puede usar para analizar la precisión del ensamble entero, y obtener los mejores hiper-parámetros.\n",
    "\n",
    "__k-fold Cross Validation:__\n",
    "\n",
    "1. Dividir la muestra en k conjuntos \n",
    "2. Para i = 1..k: entrenar en todos menos i-ésimo conjunto, validar sobre el i-ésimo conjunto \n",
    "3. Performance: promedio de las k iteraciones\n",
    "    \n",
    "Esto nos permite comparar la performance de distintos modelos para nuestro set de datos, fijar parametros de ajuste, etc.\n",
    "\n",
    ">__Luego de definido el modelo, podemos entrenarlo con nuestro set de entrenamiento completo.__"
   ]
  },
  {
   "cell_type": "markdown",
   "metadata": {},
   "source": [
    "---\n",
    "##### Datos a filtrar\n",
    "\n",
    "Hechemos un vistazo del set de datos."
   ]
  },
  {
   "cell_type": "code",
   "execution_count": 2,
   "metadata": {
    "collapsed": true
   },
   "outputs": [],
   "source": [
    "import numpy as np\n",
    "import pandas as pd\n",
    "\n",
    "import matplotlib.pyplot as plt\n",
    "%matplotlib inline"
   ]
  },
  {
   "cell_type": "code",
   "execution_count": null,
   "metadata": {
    "collapsed": true
   },
   "outputs": [],
   "source": [
    "train = pd.read_csv('./data/trip_train.csv', low_memory=False)\n",
    "test = pd.read_csv('./data/trip_test.csv', low_memory=False)"
   ]
  },
  {
   "cell_type": "code",
   "execution_count": 13,
   "metadata": {},
   "outputs": [
    {
     "data": {
      "text/html": [
       "<div>\n",
       "<style>\n",
       "    .dataframe thead tr:only-child th {\n",
       "        text-align: right;\n",
       "    }\n",
       "\n",
       "    .dataframe thead th {\n",
       "        text-align: left;\n",
       "    }\n",
       "\n",
       "    .dataframe tbody tr th {\n",
       "        vertical-align: top;\n",
       "    }\n",
       "</style>\n",
       "<table border=\"1\" class=\"dataframe\">\n",
       "  <thead>\n",
       "    <tr style=\"text-align: right;\">\n",
       "      <th></th>\n",
       "      <th>id</th>\n",
       "      <th>duration</th>\n",
       "      <th>s_date</th>\n",
       "      <th>ss_name</th>\n",
       "      <th>ss_id</th>\n",
       "      <th>e_date</th>\n",
       "      <th>es_name</th>\n",
       "      <th>es_id</th>\n",
       "      <th>b_id</th>\n",
       "      <th>sub_type</th>\n",
       "      <th>z_code</th>\n",
       "    </tr>\n",
       "  </thead>\n",
       "  <tbody>\n",
       "    <tr>\n",
       "      <th>479991</th>\n",
       "      <td>438369</td>\n",
       "      <td>273</td>\n",
       "      <td>2014-09-04 14:56:00</td>\n",
       "      <td>Clay at Battery</td>\n",
       "      <td>41</td>\n",
       "      <td>2014-09-04 15:00:00</td>\n",
       "      <td>Temporary Transbay Terminal (Howard at Beale)</td>\n",
       "      <td>55</td>\n",
       "      <td>385</td>\n",
       "      <td>Subscriber</td>\n",
       "      <td>94105</td>\n",
       "    </tr>\n",
       "    <tr>\n",
       "      <th>396013</th>\n",
       "      <td>568857</td>\n",
       "      <td>548</td>\n",
       "      <td>2014-12-07 20:00:00</td>\n",
       "      <td>Mechanics Plaza (Market at Battery)</td>\n",
       "      <td>75</td>\n",
       "      <td>2014-12-07 20:09:00</td>\n",
       "      <td>Powell Street BART</td>\n",
       "      <td>39</td>\n",
       "      <td>677</td>\n",
       "      <td>Subscriber</td>\n",
       "      <td>94107</td>\n",
       "    </tr>\n",
       "    <tr>\n",
       "      <th>201689</th>\n",
       "      <td>262617</td>\n",
       "      <td>162</td>\n",
       "      <td>2014-04-28 06:12:00</td>\n",
       "      <td>Townsend at 7th</td>\n",
       "      <td>65</td>\n",
       "      <td>2014-04-28 06:14:00</td>\n",
       "      <td>San Francisco Caltrain 2 (330 Townsend)</td>\n",
       "      <td>69</td>\n",
       "      <td>610</td>\n",
       "      <td>Subscriber</td>\n",
       "      <td>94014</td>\n",
       "    </tr>\n",
       "  </tbody>\n",
       "</table>\n",
       "</div>"
      ],
      "text/plain": [
       "            id  duration              s_date  \\\n",
       "479991  438369       273 2014-09-04 14:56:00   \n",
       "396013  568857       548 2014-12-07 20:00:00   \n",
       "201689  262617       162 2014-04-28 06:12:00   \n",
       "\n",
       "                                    ss_name  ss_id              e_date  \\\n",
       "479991                      Clay at Battery     41 2014-09-04 15:00:00   \n",
       "396013  Mechanics Plaza (Market at Battery)     75 2014-12-07 20:09:00   \n",
       "201689                      Townsend at 7th     65 2014-04-28 06:14:00   \n",
       "\n",
       "                                              es_name  es_id  b_id  \\\n",
       "479991  Temporary Transbay Terminal (Howard at Beale)     55   385   \n",
       "396013                             Powell Street BART     39   677   \n",
       "201689        San Francisco Caltrain 2 (330 Townsend)     69   610   \n",
       "\n",
       "          sub_type z_code  \n",
       "479991  Subscriber  94105  \n",
       "396013  Subscriber  94107  \n",
       "201689  Subscriber  94014  "
      ]
     },
     "execution_count": 13,
     "metadata": {},
     "output_type": "execute_result"
    }
   ],
   "source": [
    "train.sample(3)"
   ]
  },
  {
   "cell_type": "code",
   "execution_count": null,
   "metadata": {
    "collapsed": true
   },
   "outputs": [],
   "source": []
  },
  {
   "cell_type": "code",
   "execution_count": 12,
   "metadata": {},
   "outputs": [
    {
     "data": {
      "text/html": [
       "<div>\n",
       "<style>\n",
       "    .dataframe thead tr:only-child th {\n",
       "        text-align: right;\n",
       "    }\n",
       "\n",
       "    .dataframe thead th {\n",
       "        text-align: left;\n",
       "    }\n",
       "\n",
       "    .dataframe tbody tr th {\n",
       "        vertical-align: top;\n",
       "    }\n",
       "</style>\n",
       "<table border=\"1\" class=\"dataframe\">\n",
       "  <thead>\n",
       "    <tr style=\"text-align: right;\">\n",
       "      <th></th>\n",
       "      <th>id</th>\n",
       "      <th>s_date</th>\n",
       "      <th>ss_name</th>\n",
       "      <th>ss_id</th>\n",
       "      <th>e_date</th>\n",
       "      <th>es_name</th>\n",
       "      <th>es_id</th>\n",
       "      <th>b_id</th>\n",
       "      <th>sub_type</th>\n",
       "      <th>z_code</th>\n",
       "    </tr>\n",
       "  </thead>\n",
       "  <tbody>\n",
       "    <tr>\n",
       "      <th>111894</th>\n",
       "      <td>369495</td>\n",
       "      <td>2014-07-18 09:07:00</td>\n",
       "      <td>San Francisco Caltrain (Townsend at 4th)</td>\n",
       "      <td>70</td>\n",
       "      <td>2014-07-18 09:14:00</td>\n",
       "      <td>Howard at 2nd</td>\n",
       "      <td>63</td>\n",
       "      <td>481</td>\n",
       "      <td>Subscriber</td>\n",
       "      <td>95112</td>\n",
       "    </tr>\n",
       "    <tr>\n",
       "      <th>61620</th>\n",
       "      <td>201363</td>\n",
       "      <td>2014-03-04 15:04:00</td>\n",
       "      <td>Market at Sansome</td>\n",
       "      <td>77</td>\n",
       "      <td>2014-03-04 15:18:00</td>\n",
       "      <td>Townsend at 7th</td>\n",
       "      <td>65</td>\n",
       "      <td>592</td>\n",
       "      <td>Subscriber</td>\n",
       "      <td>94925</td>\n",
       "    </tr>\n",
       "    <tr>\n",
       "      <th>101469</th>\n",
       "      <td>261849</td>\n",
       "      <td>2014-04-26 15:00:00</td>\n",
       "      <td>Embarcadero at Folsom</td>\n",
       "      <td>51</td>\n",
       "      <td>2014-04-26 15:15:00</td>\n",
       "      <td>San Francisco Caltrain (Townsend at 4th)</td>\n",
       "      <td>70</td>\n",
       "      <td>312</td>\n",
       "      <td>Subscriber</td>\n",
       "      <td>94105</td>\n",
       "    </tr>\n",
       "  </tbody>\n",
       "</table>\n",
       "</div>"
      ],
      "text/plain": [
       "            id              s_date                                   ss_name  \\\n",
       "111894  369495 2014-07-18 09:07:00  San Francisco Caltrain (Townsend at 4th)   \n",
       "61620   201363 2014-03-04 15:04:00                         Market at Sansome   \n",
       "101469  261849 2014-04-26 15:00:00                     Embarcadero at Folsom   \n",
       "\n",
       "        ss_id              e_date                                   es_name  \\\n",
       "111894     70 2014-07-18 09:14:00                             Howard at 2nd   \n",
       "61620      77 2014-03-04 15:18:00                           Townsend at 7th   \n",
       "101469     51 2014-04-26 15:15:00  San Francisco Caltrain (Townsend at 4th)   \n",
       "\n",
       "        es_id  b_id    sub_type z_code  \n",
       "111894     63   481  Subscriber  95112  \n",
       "61620      65   592  Subscriber  94925  \n",
       "101469     70   312  Subscriber  94105  "
      ]
     },
     "execution_count": 12,
     "metadata": {},
     "output_type": "execute_result"
    }
   ],
   "source": [
    "test.sample(3)"
   ]
  },
  {
   "cell_type": "code",
   "execution_count": 8,
   "metadata": {},
   "outputs": [
    {
     "name": "stdout",
     "output_type": "stream",
     "text": [
      "4.0\n"
     ]
    }
   ],
   "source": [
    "# Comparamos los sets de datos\n",
    "print float(train.shape[0] / test.shape[0])"
   ]
  },
  {
   "cell_type": "markdown",
   "metadata": {},
   "source": [
    "En un principio los datos de entrenamiento son 4 veces mayores a los de testeo.\n",
    "\n",
    "Algo importante de notar de esto, es que cuando el algoritmo de predicción esté armado y preparado, los datos que ingresaremos serán los de testeo. Digo esto porque, si el algoritmo aprende a predecir duración en función de distancias, deberá tener en cuenta que primero se debe calcular la distancia entre las estaciones (ya no es parte del dato de prueba en sí).\n",
    "\n",
    "Los nombres de las estaciones no son necesarios ya que se conocen sus identificaciones.\n",
    "\n",
    "El tipo de suscripción se puede convertir a un número. Además sólo hay dos tipos de suscripción.\n",
    "\n",
    "Las identificaciones de los viajes tampoco son necesarias ya que no aportan informacion útil.\n",
    "\n",
    "(Zip-code, en este caso no me acuerdo que era, pero creo se puede sacar. Ademas hay algunos datos con NaN)\n",
    "\n",
    "(El set de testeo (creo) que __NO__ se debe tocar (en cuanto a valores NaN y eso) aunque si el formato de fechas, etc)"
   ]
  },
  {
   "cell_type": "code",
   "execution_count": null,
   "metadata": {
    "collapsed": true
   },
   "outputs": [],
   "source": [
    "renombres = {'subscription_type': 'sub_type',\n",
    "             'start_station_name': 'ss_name',\n",
    "             'end_station_name': 'es_name',\n",
    "             'start_station_id': 'ss_id',\n",
    "             'end_station_id': 'es_id',\n",
    "             'start_date': 's_date',\n",
    "             'end_date': 'e_date',\n",
    "             'zip_code': 'z_code',\n",
    "             'bike_id': 'b_id'}\n",
    "\n",
    "train.rename(columns=renombres, inplace=True)\n",
    "test.rename(columns=renombres, inplace=True)"
   ]
  },
  {
   "cell_type": "code",
   "execution_count": 9,
   "metadata": {
    "collapsed": true
   },
   "outputs": [],
   "source": [
    "# Convirtiendo el formato de fecha\n",
    "train.s_date = pd.to_datetime(train.s_date, format='%m/%d/%Y %H:%M')\n",
    "train.e_date = pd.to_datetime(train.e_date, format='%m/%d/%Y %H:%M')\n",
    "test.s_date = pd.to_datetime(test.s_date, format='%m/%d/%Y %H:%M')\n",
    "test.e_date = pd.to_datetime(test.e_date, format='%m/%d/%Y %H:%M')"
   ]
  },
  {
   "cell_type": "code",
   "execution_count": 15,
   "metadata": {
    "collapsed": true
   },
   "outputs": [],
   "source": [
    "#Quitamos los datos invalidos\n",
    "# (los NaN y eso)"
   ]
  },
  {
   "cell_type": "code",
   "execution_count": null,
   "metadata": {
    "collapsed": true
   },
   "outputs": [],
   "source": [
    "#Quitamos "
   ]
  },
  {
   "cell_type": "code",
   "execution_count": null,
   "metadata": {
    "collapsed": true
   },
   "outputs": [],
   "source": []
  },
  {
   "cell_type": "markdown",
   "metadata": {},
   "source": [
    "Antes de continuar a la siguiente sección, vemos como es la relación entre los sets de datos"
   ]
  },
  {
   "cell_type": "code",
   "execution_count": 14,
   "metadata": {},
   "outputs": [
    {
     "name": "stdout",
     "output_type": "stream",
     "text": [
      "4.0\n"
     ]
    }
   ],
   "source": [
    "# Comparamos los sets de datos luego de filtrarlos\n",
    "print float(train.shape[0] / test.shape[0])"
   ]
  },
  {
   "cell_type": "markdown",
   "metadata": {},
   "source": [
    "---\n",
    "#### Análisis Extenso\n",
    "\n",
    "(Hasta este punto ya se vieron los datos. En esta seccion determinamos cuales son los features importantes y todo lo necesario para tener un plan concreto)\n",
    "\n",
    "Hasta ahora tenemos conociemiento de: las conclusiones del TP1, el API a utilizar y los datos. En esta sección vamos a ver las ultimas consideraciones.\n",
    "\n",
    "\n",
    "Como evaluamos a los resultados? (me refiero a las herramienta que provee tensoflow. cual es?)\n",
    "\n",
    "Como determinamos los tamaños de los sets de datos? (Esto es un hiperparametro y debe testearse luego de tener el algoritmo implementado, y se utilizara la mejor configuracion que es la que da mejores resultados)\n",
    "\n"
   ]
  },
  {
   "cell_type": "markdown",
   "metadata": {},
   "source": [
    "---\n",
    "#### Plan\n",
    "\n",
    "El problema que se plantea, es de regresión ya que tenemos que predecir la duración de un viaje en minutos, entónces dado un *viaje* (de prueba), debemos devolver un posible valor de duración de dicho *viaje*.\n",
    "\n",
    "*planteo del algoritmo a utilizar*\n",
    "\n",
    "La predicción deberá ser un valor mayor a 0.\n",
    "\n",
    "*plan*\n",
    "\n",
    ">Primero, creemos que sería útil visualizar los datos en crudo, para ver como se comportan. Es decir, analizar la duracion de los viajes dependiendo de las estaciones o ciudades (esto deberia estar en las __conclusiones del TP1__) o cosas por el estilo.\n",
    "\n",
    ">Para lograr esto, aplicamos un método de reducción de dimensiones.\n",
    "\n",
    ">(algunos comentarios: aplicar SVD o PCA y ver los valores singulares no creo que aporte mucho. Hacer eso, nos daria las *dimensiones* que son mas importantes o representativas de los datos. Yo diria que esas *dimensiones* serían las que varian menos, por ejemplo la *ss_id* o *sub_type* ya que tienen pocas variaciones y practicamente todos los datos tienen esa información. Pero ahora me doy cuenta que tal vez se pueda inferir que el tipo de suscripción puede alterar (o se ve un patrón en) el cambio de duración del viaje) -mk\n",
    "\n",
    ">(Cómo se implementan estas cosas? Qué hacemos con los strings, etc.? Me acuerdo que al principio de la cursada vimos cosas como, convertir esos tipos de datos a valores numéricos y eso pero, es del todo necesario?, los hacemos? cómo? ....) -mk"
   ]
  },
  {
   "cell_type": "markdown",
   "metadata": {},
   "source": [
    "---\n",
    "#### Ejecución del plan"
   ]
  },
  {
   "cell_type": "code",
   "execution_count": 7,
   "metadata": {
    "collapsed": true
   },
   "outputs": [],
   "source": [
    "#stations \n",
    "#stations = pd.read_csv('./data/station.csv', low_memory=False)\n",
    "#weather = pd.read_csv('./data/weather.csv', low_memory=False)"
   ]
  },
  {
   "cell_type": "code",
   "execution_count": 13,
   "metadata": {
    "collapsed": true
   },
   "outputs": [
    {
     "data": {
      "text/html": [
       "<div>\n",
       "<style>\n",
       "    .dataframe thead tr:only-child th {\n",
       "        text-align: right;\n",
       "    }\n",
       "\n",
       "    .dataframe thead th {\n",
       "        text-align: left;\n",
       "    }\n",
       "\n",
       "    .dataframe tbody tr th {\n",
       "        vertical-align: top;\n",
       "    }\n",
       "</style>\n",
       "<table border=\"1\" class=\"dataframe\">\n",
       "  <thead>\n",
       "    <tr style=\"text-align: right;\">\n",
       "      <th></th>\n",
       "      <th>id</th>\n",
       "      <th>s_date</th>\n",
       "      <th>ss_name</th>\n",
       "      <th>ss_id</th>\n",
       "      <th>e_date</th>\n",
       "      <th>es_name</th>\n",
       "      <th>es_id</th>\n",
       "      <th>b_id</th>\n",
       "      <th>sub_type</th>\n",
       "      <th>z_code</th>\n",
       "    </tr>\n",
       "  </thead>\n",
       "  <tbody>\n",
       "    <tr>\n",
       "      <th>0</th>\n",
       "      <td>504737</td>\n",
       "      <td>2014-10-18 11:25:00</td>\n",
       "      <td>Embarcadero at Sansome</td>\n",
       "      <td>60</td>\n",
       "      <td>2014-10-18 12:12:00</td>\n",
       "      <td>Powell at Post (Union Square)</td>\n",
       "      <td>71</td>\n",
       "      <td>426</td>\n",
       "      <td>Customer</td>\n",
       "      <td>77009</td>\n",
       "    </tr>\n",
       "    <tr>\n",
       "      <th>1</th>\n",
       "      <td>530846</td>\n",
       "      <td>2014-11-05 13:00:00</td>\n",
       "      <td>Embarcadero at Folsom</td>\n",
       "      <td>51</td>\n",
       "      <td>2014-11-05 13:09:00</td>\n",
       "      <td>Broadway St at Battery St</td>\n",
       "      <td>82</td>\n",
       "      <td>454</td>\n",
       "      <td>Subscriber</td>\n",
       "      <td>94132</td>\n",
       "    </tr>\n",
       "    <tr>\n",
       "      <th>2</th>\n",
       "      <td>813140</td>\n",
       "      <td>2015-06-18 17:34:00</td>\n",
       "      <td>San Francisco Caltrain (Townsend at 4th)</td>\n",
       "      <td>70</td>\n",
       "      <td>2015-06-18 17:37:00</td>\n",
       "      <td>2nd at Townsend</td>\n",
       "      <td>61</td>\n",
       "      <td>370</td>\n",
       "      <td>Subscriber</td>\n",
       "      <td>94107</td>\n",
       "    </tr>\n",
       "  </tbody>\n",
       "</table>\n",
       "</div>"
      ],
      "text/plain": [
       "       id              s_date                                   ss_name  \\\n",
       "0  504737 2014-10-18 11:25:00                    Embarcadero at Sansome   \n",
       "1  530846 2014-11-05 13:00:00                     Embarcadero at Folsom   \n",
       "2  813140 2015-06-18 17:34:00  San Francisco Caltrain (Townsend at 4th)   \n",
       "\n",
       "   ss_id              e_date                        es_name  es_id  b_id  \\\n",
       "0     60 2014-10-18 12:12:00  Powell at Post (Union Square)     71   426   \n",
       "1     51 2014-11-05 13:09:00      Broadway St at Battery St     82   454   \n",
       "2     70 2015-06-18 17:37:00                2nd at Townsend     61   370   \n",
       "\n",
       "     sub_type z_code  \n",
       "0    Customer  77009  \n",
       "1  Subscriber  94132  \n",
       "2  Subscriber  94107  "
      ]
     },
     "execution_count": 13,
     "metadata": {},
     "output_type": "execute_result"
    }
   ],
   "source": [
    "test.head(3)"
   ]
  },
  {
   "cell_type": "code",
   "execution_count": 12,
   "metadata": {
    "collapsed": true
   },
   "outputs": [
    {
     "data": {
      "text/html": [
       "<div>\n",
       "<style>\n",
       "    .dataframe thead tr:only-child th {\n",
       "        text-align: right;\n",
       "    }\n",
       "\n",
       "    .dataframe thead th {\n",
       "        text-align: left;\n",
       "    }\n",
       "\n",
       "    .dataframe tbody tr th {\n",
       "        vertical-align: top;\n",
       "    }\n",
       "</style>\n",
       "<table border=\"1\" class=\"dataframe\">\n",
       "  <thead>\n",
       "    <tr style=\"text-align: right;\">\n",
       "      <th></th>\n",
       "      <th>id</th>\n",
       "      <th>duration</th>\n",
       "      <th>s_date</th>\n",
       "      <th>ss_name</th>\n",
       "      <th>ss_id</th>\n",
       "      <th>e_date</th>\n",
       "      <th>es_name</th>\n",
       "      <th>es_id</th>\n",
       "      <th>b_id</th>\n",
       "      <th>sub_type</th>\n",
       "      <th>z_code</th>\n",
       "    </tr>\n",
       "  </thead>\n",
       "  <tbody>\n",
       "    <tr>\n",
       "      <th>0</th>\n",
       "      <td>907649</td>\n",
       "      <td>396</td>\n",
       "      <td>2015-08-27 08:36:00</td>\n",
       "      <td>Harry Bridges Plaza (Ferry Building)</td>\n",
       "      <td>50</td>\n",
       "      <td>2015-08-27 08:43:00</td>\n",
       "      <td>Embarcadero at Sansome</td>\n",
       "      <td>60</td>\n",
       "      <td>187</td>\n",
       "      <td>Subscriber</td>\n",
       "      <td>94602</td>\n",
       "    </tr>\n",
       "    <tr>\n",
       "      <th>1</th>\n",
       "      <td>384043</td>\n",
       "      <td>636</td>\n",
       "      <td>2014-07-28 22:06:00</td>\n",
       "      <td>Market at 10th</td>\n",
       "      <td>67</td>\n",
       "      <td>2014-07-28 22:17:00</td>\n",
       "      <td>Washington at Kearny</td>\n",
       "      <td>46</td>\n",
       "      <td>417</td>\n",
       "      <td>Subscriber</td>\n",
       "      <td>94133</td>\n",
       "    </tr>\n",
       "    <tr>\n",
       "      <th>2</th>\n",
       "      <td>316176</td>\n",
       "      <td>334</td>\n",
       "      <td>2014-06-09 08:42:00</td>\n",
       "      <td>Market at Sansome</td>\n",
       "      <td>77</td>\n",
       "      <td>2014-06-09 08:47:00</td>\n",
       "      <td>2nd at Folsom</td>\n",
       "      <td>62</td>\n",
       "      <td>281</td>\n",
       "      <td>Subscriber</td>\n",
       "      <td>94107</td>\n",
       "    </tr>\n",
       "  </tbody>\n",
       "</table>\n",
       "</div>"
      ],
      "text/plain": [
       "       id  duration              s_date                               ss_name  \\\n",
       "0  907649       396 2015-08-27 08:36:00  Harry Bridges Plaza (Ferry Building)   \n",
       "1  384043       636 2014-07-28 22:06:00                        Market at 10th   \n",
       "2  316176       334 2014-06-09 08:42:00                     Market at Sansome   \n",
       "\n",
       "   ss_id              e_date                 es_name  es_id  b_id    sub_type  \\\n",
       "0     50 2015-08-27 08:43:00  Embarcadero at Sansome     60   187  Subscriber   \n",
       "1     67 2014-07-28 22:17:00    Washington at Kearny     46   417  Subscriber   \n",
       "2     77 2014-06-09 08:47:00           2nd at Folsom     62   281  Subscriber   \n",
       "\n",
       "  z_code  \n",
       "0  94602  \n",
       "1  94133  \n",
       "2  94107  "
      ]
     },
     "execution_count": 12,
     "metadata": {},
     "output_type": "execute_result"
    }
   ],
   "source": [
    "train.head(3)"
   ]
  },
  {
   "cell_type": "code",
   "execution_count": 11,
   "metadata": {},
   "outputs": [
    {
     "name": "stdout",
     "output_type": "stream",
     "text": [
      "4\n"
     ]
    }
   ],
   "source": []
  }
 ],
 "metadata": {
  "kernelspec": {
   "display_name": "Python 2",
   "language": "python",
   "name": "python2"
  },
  "language_info": {
   "codemirror_mode": {
    "name": "ipython",
    "version": 2
   },
   "file_extension": ".py",
   "mimetype": "text/x-python",
   "name": "python",
   "nbconvert_exporter": "python",
   "pygments_lexer": "ipython2",
   "version": "2.7.13"
  }
 },
 "nbformat": 4,
 "nbformat_minor": 2
}
