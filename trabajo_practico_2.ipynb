{
 "cells": [
  {
   "cell_type": "markdown",
   "metadata": {},
   "source": [
    "# Organización de Datos (9558)\n",
    "\n",
    "## Trabajo Práctico N° 2\n",
    "\n",
    "#### Fecha: 2017-06-22\n",
    "\n",
    "#### Integrantes:\n",
    "\n",
    "\n",
    "#### Repo:\n",
    "[Github - TP2](https://github.com/frisjon/tp2)"
   ]
  },
  {
   "cell_type": "markdown",
   "metadata": {},
   "source": [
    "---\n",
    "*toc*"
   ]
  },
  {
   "cell_type": "markdown",
   "metadata": {},
   "source": [
    "---\n",
    "#### Enunciado\n",
    "\n",
    "El segundo TP es una competencia de Machine Learning en donde cada grupo debe intentar predecir la duración de los viajes en base a los datos de los mismos. La competencia se desarrolla en la plataforma de Kaggle, se provee un archivo \"train.csv\" que debe ser usado para entrenar un modelo de Machine Learning y un archivo \"test.csv\" que tiene los datos de los viajes a predecir. Adicionalmente pueden usarse los datos de las estaciones, del status de cada estación minuto a minuto y la información meteorológica.\n",
    "\n",
    "ADVERTENCIA MUY IMPORTANTE: Dado que los datos son públicos los resultados de la competencia ya se saben, son parte de los datos del TP1, es fundamental que ningún grupo suba a Kaggle submissions que usan esta información ya que distorsiona el score de la competencia y una vez subido un submission es IMPOSIBLE ELIMINARLO. Los submissions\n",
    "deben generarse en base a un modelo de machine learning y nunca en base a los resultados que ya se conocen.\n",
    "\n",
    "TL;DR: NO SUBIR A KAGGLE SUBMISSIONS QUE HACEN TRAMPA, ES IMPOSIBLE BORRARLOS!!!\n",
    "\n",
    "Los grupos deberán probar distintos algoritmos de Machine Learning para predecir la duración de los viajes en base a los datos de los mismos. A medida que los grupos realicen pruebas deben realizar el correspondiente submit en Kaggle para evaluar el resultado de los mismos. Al finalizar la competencia el grupo que mejor resultado tenga obtendrá 10 puntos para cada uno de sus integrantes que podrán ser usados en el examen por promoción o segundo recuperatorio.\n",
    "\n",
    "Requisitos para la entrega del TP2:\n",
    "1. El TP debe programarse en Python o R\n",
    "- Debe entregarse una carpeta con el informe de algoritmos probados, algoritmo final utilizado, transformaciones realizadas a los datos, feature engineering, etc.\n",
    "- El grupo debe presentar el TP en una computadora en la fecha indicada por la cátedra, el TP debe correr en un lapso de tiempo razonable (inferior a 1 hora) y generar un submission válido que iguale el mejor resultado obtenido por el grupo en Kaggle.\n",
    "\n",
    "El TP2 se va a evaluar en función del siguiente criterio:\n",
    "1. Cantidad de trabajo (esfuerzo) del grupo: ¿Probaron muchos algoritmos? ¿Hicieron un buen trabajo de pre-procesamiento de los datos y feature engineering?\n",
    "- Resultado obtenido en Kaggle (obviamente cuanto mejor resultado mejor nota)\n",
    "- Presentación final del informe, calidad de la redacción, uso de información obtenida en el TP1, conclusiones presentadas.\n",
    "- Performance de la solución final.\n",
    "\n",
    "\n",
    "ADVERTENCIA IMPORTANTE #2: Bajo ningún concepto debe interpretarse que es necesario finalizar el TP1 para poder comenzar el TP2, quienes incurran en este error se encontrarán que el tiempo necesario para desarrollar el TP2 es insuficiente. Es fundamental, imprescindible y vital comenzar el desarrollo del TP2 en forma paralela al TP1 para evitar problemas en el cumpimiento de las fechas de entrega."
   ]
  },
  {
   "cell_type": "markdown",
   "metadata": {},
   "source": [
    "---\n",
    "#### [Descipción](https://inclass.kaggle.com/c/san-francisco-biking)\n",
    "\n",
    "El propósito de esta competencia es predecir la duración de los viajes.\n",
    "\n",
    "El objetivo de esta competencia es predecir la duración de los viajes de acuerdo a los datos de los mismos, la información meteorológica, etc.\n",
    "\n",
    "Pueden usarse los siguientes archivos disponibles en:\n",
    "\n",
    "https://www.kaggle.com/benhamner/sf-bay-area-bike-share\n",
    "\n",
    "    .status\n",
    "    .station \n",
    "    .weather\n",
    "\n",
    "Para los viajes debe usarse el archivo train.csv provisto par entrenar el modelo y el archivo test.csv tiene los datos de los viajes a predecir.\n",
    "\n",
    "IMPORTANTE: El archivo trips.csv del TP anterior tiene los resultados que queremos predecir, estos resultados NO DEBEN usarse de ninguna forma para el entrenamiento del modelo. No subir a Kaggle ningún submission que sea generado a partir de estos datos ya que afecta la evaluación de la competencia y NO ES POSIBLE ELIMINAR SUBMISSIONS. "
   ]
  },
  {
   "cell_type": "markdown",
   "metadata": {},
   "source": [
    "---\n",
    "#### [Evaluación y Formato de Entrega](https://inclass.kaggle.com/c/san-francisco-biking/details/evaluation)\n",
    "\n",
    "La evaluación es por Mean Squared Error es decir la diferencia de cuadrados entre la duración real del viaje y la duración que se predice mediante el modelo de Machine Learning usado.\n",
    "\n",
    "El formato de submission es un archivo .csv de la forma:\n",
    "\n",
    "    id,duration\n",
    "    1,1\n",
    "    8,8\n",
    "    9,9 10\n",
    "    10,10 9\n",
    "    etc."
   ]
  },
  {
   "cell_type": "markdown",
   "metadata": {},
   "source": [
    "---\n",
    "#### Conclusiones del TP 1\n",
    "\n",
    "> Los usuarios del serivicio, en su mayoria, lo utiliza para trasladarse al trabajo.\n",
    "\n",
    "> Ya conocemos cuáles son los datos a filtrar.\n",
    "\n",
    "> ... (agregar mas)"
   ]
  },
  {
   "cell_type": "markdown",
   "metadata": {},
   "source": [
    "---\n",
    "#### Algunos comentarios sobre cosas en general (eliminar al terminar el tp)\n",
    "\n",
    "Hay que tener un modelo claro de cómo se resuelve el problema, hecho después de analizar los datos. (Esto es muy general. Después comento mas cosas sobre esto)\n",
    "\n",
    "Lo de Bagging y Bootstrapping va __al final__ porque es para ajustar el modelo lo mejor posible, claro esta, sin overfitting etc... Para que se pueda ajustar, el modelo tiene que estar definido e __implementado__. Yo creo que empezar algunas cosas sin tener una idea (bastante) clara, va a hacer el desarrollo mas lento.\n",
    "\n",
    "Planteo las siguientes preguntas para guiarnos y poder llegar a un acuerdo entre todos.\n",
    "\n",
    "> __Cómo es el algoritmo?__ Como es un problema de regresión (porque es, dar un número en un intervalo a partir de datos), usemos un algoritmo de regresión. [Wiki](https://es.wikipedia.org/wiki/An%C3%A1lisis_de_la_regresi%C3%B3n). \n",
    "\n",
    "> __Qué tipo de regresión?__ [Lineal](https://es.wikipedia.org/wiki/Regresi%C3%B3n_lineal) [MCO](https://es.wikipedia.org/wiki/M%C3%ADnimos_cuadrados_ordinarios) etc ... . Acá abría que ver los datos y como se comportan. Apliquemos métodos de reducción de dimensiones para no introducir ningún *bias*. Para esta parte, abría que considerar los datos que tenemos disponibles (mas sobre esto después)\n",
    "\n",
    "> __Qué tan útil puede ser tener otro tipo de algoritmos y por qué?__ (Clustering, etc) Por ejemplo clustering podría categorizar viajes en tiempos: largos, medianos, cortos.\n",
    "\n",
    "> __Ya existen algoritmos implementados que faciliten esto?__ Ver [Tensorflow](https://www.tensorflow.org/), [SciKit-Learn](http://scikit-learn.org/stable/index.html), R(?), ... (si conocen mas, comenten). De las que propongamos, __Cuál es la mas conveniente de usar y por qué?__\n",
    "\n",
    "> Sobre entrenar al algoritmo, hay que pensar de antemano, cuáles son los *features* que intuitivamente son importantes y justificar por qué lo son. Cuáles pueden traer problemas, por ejemplo, que tengan una importancia no debida (es decir que el algortimo aprenda que esos *features* sean importantes cuando creemos que no los son.) Ojo que esto podría mostrar patrones que no vemos a simple vista y que sí son importantes. Esto me parece importante de considerar para entender como operar con ciertos *features* en la implementacion o el modelo.\n",
    "\n",
    "> Considerando lo de *Reducción de dimensiones*, se me viene a la cabeza __SVD__. Claramente no podemos utilizar strings o fechas en ese formato. Entónces abría que hacer *One Hot Encoding*. (Las fechas por ejemplo se pueden pasar a [UNIX Time](https://es.wikipedia.org/wiki/Tiempo_Unix)). Luego de eso, lo que esperamos de la reducción es, ver en 2D (o 3D) cómo se distribuyen los datos, conservando distancias y eso. Con esto podemos proponer si el modelo de regresion es lineal, cuadratico, etc... . Además de considerar sólo a los datos en crudo, podemos introducir datos \"nuevos\", por ejemplo agregar información del clima, distancia entre estaciones, nombre (o código) de la *ciudad*, etc. y después, aplicar __SVD__. Propongo probar __TODAS__ las posibilidades que se nos ocurran mientras tengamos el tiempo de probar. Además, si se grafican esos datos, puede quedar lindo y eso. Volviendo al tema que quería comentar, al descomponer los datos en __SVD__, __Qué se obtiene exactamente?__ La teoría nos dice que tenemos en las primeras k columnas de U a los datos representados en k dimensiones. Cuidado que k no puede ser cualquier valor sino que sean algunos que preserven la *energia de la matriz* (p.317 del apunte)\n",
    "\n",
    "TLDR; \n",
    "\n",
    "Entender como se resuelve. Utilizamos perceptrones, etc?\n",
    "\n",
    "Analizar los datos y determinar qué features son importantes.\n",
    "\n",
    "Armar el modelo. (Cómo juntar los features)\n",
    "\n",
    "Probar lo de cross validation, etc\n",
    "\n",
    "---\n",
    "\n",
    "(Me parece que este orden de cómo ir avanzando, es el que vá. Propongan uds otras alternativas.) -mk\n",
    "\n",
    "Dudas que tengo y creo que se deben preguntar en clase o piazza:\n",
    "\n",
    "> Se puede *tocar* al set de *TEST*? (esto lo aclaro mas adelante. Lo dejo aca para que este ordenado :P )\n",
    "\n",
    "> Si se fijan el formato de archivo de entrega, hay algunas cosas que para mi estan mal o no lo entiendo.\n",
    "\n",
    "---\n",
    "\n",
    "Antes de seguir leyendo, podemos averiguar sobre cómo otras personas encaran este tipo de proyectos. Tal vez las preguntas se consteten de esa manera. \n",
    "\n",
    "[kernels de kaggle](https://www.kaggle.com/benhamner/sf-bay-area-bike-share/kernels)\n",
    "\n",
    "[papers](https://drive.google.com/drive/u/0/folders/0B8rBD4QSqWnSRDRFUkVDSnVMMFk)"
   ]
  },
  {
   "cell_type": "markdown",
   "metadata": {},
   "source": [
    "---\n",
    "#### Introduciendo a la API\n",
    "\n",
    "[Tensorflow](https://www.tensorflow.org/get_started/get_started)\n",
    "\n",
    "(En el link, hay explicaciones de las estructuras utilizadas en tensorflow.) -mk\n",
    "\n",
    "(Asumiendo que utilizamos tensorflow, podemos armar un modelo basico.) -mk\n",
    "\n",
    "##### Ejemplo de una parte del modelo\n",
    "\n",
    "Un dato entra, separamos las partes (o dimensiones) que consideramos importantes, realizamos cálculos con ellos y devolvemos un resultado.\n",
    "\n",
    "Una parte del algoritmo (un *nodo* en tensorflow), podría tomar como parámetros a las id's de las estaciones y devolver la distancia entre ellas. Luego la distancia, irá por otras partes del modelo que serán utilizadas para determinar el resultado final que es la duración del viaje.\n",
    "\n",
    "(Acá van las consideraciones de la api, (que estructuras de datos estan disponibles, como se pueden utilizar y como las VAMOS a utilizar). Despues en __plan__, ya juntamos todas las consideraciones y formamos el plan) -mk\n",
    "\n",
    "---\n",
    "(__No__ se crean que la tengo clara con tensorflow!!!! (Me) Faltaria ver SK-Learn para comparar cual es mejor. Tambien considerar otras alternativas) -mk"
   ]
  },
  {
   "cell_type": "markdown",
   "metadata": {},
   "source": [
    "---\n",
    "#### Sets de Datos y (Feature Engineering | consideraciones)\n",
    "\n",
    "En esta sección analizamos los datos a modo de preparación de armado del modelo.\n",
    "\n",
    "Los sets de datos son:\n",
    "\n",
    ">[Entrenamiento y testeo](https://inclass.kaggle.com/c/san-francisco-biking/data) ( https://inclass.kaggle.com/c/san-francisco-biking/data )\n",
    "\n",
    ">[Set de datos del TP1](https://www.kaggle.com/benhamner/sf-bay-area-bike-share) (excluyendo a trips.csv) ( https://www.kaggle.com/benhamner/sf-bay-area-bike-share )\n",
    "\n",
    "(Hay que juntar los datos de train, con los de weather y stations)\n",
    "\n",
    "*comentarios de SVD/PCA (que se espera ver)*"
   ]
  },
  {
   "cell_type": "code",
   "execution_count": 103,
   "metadata": {
    "collapsed": true
   },
   "outputs": [],
   "source": [
    "import pandas as pd\n",
    "import numpy as np\n",
    "import matplotlib.pyplot as plt\n",
    "%matplotlib inline"
   ]
  },
  {
   "cell_type": "code",
   "execution_count": 104,
   "metadata": {
    "collapsed": true
   },
   "outputs": [],
   "source": [
    "train = pd.read_csv('./data/train.csv', low_memory=False)"
   ]
  },
  {
   "cell_type": "code",
   "execution_count": 105,
   "metadata": {},
   "outputs": [
    {
     "data": {
      "image/png": "[encoded data removed]",
      "text/plain": [
       "<matplotlib.figure.Figure at 0x7eff8fb06d90>"
      ]
     },
     "metadata": {},
     "output_type": "display_data"
    }
   ],
   "source": [
    "train[['id','duration']].groupby('duration').count().head(3000).plot(figsize=(23,7));\n",
    "plt.xlabel('Duracion');\n",
    "plt.ylabel('Cantidad de viajes');"
   ]
  },
  {
   "cell_type": "markdown",
   "metadata": {},
   "source": [
    "Del gráfico se observa que hay una gran cantidad de viajes de duración 200 y 600 segundos. (En el gráfico se muestran 3000 de 14614 duraciones diferentes)"
   ]
  },
  {
   "cell_type": "markdown",
   "metadata": {},
   "source": [
    "---\n",
    "__(quitar esta sección. Está sólo para aclarar los métodos para obtener una mejor performance en tanto a las predicciones del algoritmo. Pero eso se debe realizar al final de todo)__\n",
    "\n",
    "##### Dividiendo al set de entrenamiento\n",
    "\n",
    "__Bootstrapping:__\n",
    "\n",
    "1. Tomamos n muestras del set de entrenamiento (con reemplazo, el dato puede repetirse) y corremos el algoritmo para esas n muestras.\n",
    "2. Con esto generamos n modelos distintos.\n",
    "3. Luego corremos el set de testing con esos n modelos, y llegamos a un resultado por votación (promediando).\n",
    "\n",
    "La técnica de bagging disminuye la posibilidad de overfitting\n",
    "\n",
    "Como cada clasificador no ve la totalidad de los registros del set de entrenamiento ninguno de los n clasificadores individuales puede sobre-ajustar.\n",
    "\n",
    "Registros OOB (Out of Bag), es decir fuera del bagging se usan para ver la precisión del algoritmo. (como se fuera de un set de validación).\n",
    "\n",
    "Promedio de precisión de los registros OOB se puede usar para analizar la precisión del ensamble entero, y obtener los mejores hiper-parámetros.\n",
    "\n",
    "__k-fold Cross Validation:__\n",
    "\n",
    "1. Dividir la muestra en k conjuntos \n",
    "2. Para i = 1..k: entrenar en todos menos i-ésimo conjunto, validar sobre el i-ésimo conjunto \n",
    "3. Performance: promedio de las k iteraciones\n",
    "    \n",
    "Esto nos permite comparar la performance de distintos modelos para nuestro set de datos, fijar parametros de ajuste, etc.\n",
    "\n",
    ">__Luego de definido el modelo, podemos entrenarlo con nuestro set de entrenamiento completo.__"
   ]
  },
  {
   "cell_type": "markdown",
   "metadata": {},
   "source": [
    "---\n",
    "##### Datos a filtrar\n",
    "\n",
    "(Acá ejecutamos lo planeado en __Sets de Datos__) -mk\n",
    "\n",
    "Hechemos un vistazo del set de datos.\n",
    "\n",
    "Para manejar y visualizar los datos, utilizamos *pandas*.\n",
    "\n",
    "(Si tienen/quieren otras alternativas, sugieran :D . El set de test, __creo__ yo que no se debe __tocar__ en tanto a eliminar datos o corregirlos. Cómo actúa el algoritmo en situaciones que no conoce?) -mk"
   ]
  },
  {
   "cell_type": "code",
   "execution_count": 106,
   "metadata": {
    "collapsed": true
   },
   "outputs": [],
   "source": [
    "import numpy as np\n",
    "import pandas as pd\n",
    "\n",
    "import matplotlib.pyplot as plt\n",
    "%matplotlib inline"
   ]
  },
  {
   "cell_type": "code",
   "execution_count": 107,
   "metadata": {
    "collapsed": true
   },
   "outputs": [],
   "source": [
    "train = pd.read_csv('./data/train.csv', low_memory=False)\n",
    "test = pd.read_csv('./data/test.csv', low_memory=False)"
   ]
  },
  {
   "cell_type": "code",
   "execution_count": 108,
   "metadata": {},
   "outputs": [
    {
     "data": {
      "text/html": [
       "<div>\n",
       "<style>\n",
       "    .dataframe thead tr:only-child th {\n",
       "        text-align: right;\n",
       "    }\n",
       "\n",
       "    .dataframe thead th {\n",
       "        text-align: left;\n",
       "    }\n",
       "\n",
       "    .dataframe tbody tr th {\n",
       "        vertical-align: top;\n",
       "    }\n",
       "</style>\n",
       "<table border=\"1\" class=\"dataframe\">\n",
       "  <thead>\n",
       "    <tr style=\"text-align: right;\">\n",
       "      <th></th>\n",
       "      <th>id</th>\n",
       "      <th>duration</th>\n",
       "      <th>start_date</th>\n",
       "      <th>start_station_name</th>\n",
       "      <th>start_station_id</th>\n",
       "      <th>end_date</th>\n",
       "      <th>end_station_name</th>\n",
       "      <th>end_station_id</th>\n",
       "      <th>bike_id</th>\n",
       "      <th>subscription_type</th>\n",
       "      <th>zip_code</th>\n",
       "    </tr>\n",
       "  </thead>\n",
       "  <tbody>\n",
       "    <tr>\n",
       "      <th>405854</th>\n",
       "      <td>591435</td>\n",
       "      <td>206</td>\n",
       "      <td>1/5/2015 16:51</td>\n",
       "      <td>Steuart at Market</td>\n",
       "      <td>74</td>\n",
       "      <td>1/5/2015 16:55</td>\n",
       "      <td>Embarcadero at Bryant</td>\n",
       "      <td>54</td>\n",
       "      <td>408</td>\n",
       "      <td>Subscriber</td>\n",
       "      <td>94114</td>\n",
       "    </tr>\n",
       "    <tr>\n",
       "      <th>246989</th>\n",
       "      <td>448533</td>\n",
       "      <td>213</td>\n",
       "      <td>9/11/2014 15:05</td>\n",
       "      <td>2nd at Townsend</td>\n",
       "      <td>61</td>\n",
       "      <td>9/11/2014 15:09</td>\n",
       "      <td>2nd at Folsom</td>\n",
       "      <td>62</td>\n",
       "      <td>403</td>\n",
       "      <td>Subscriber</td>\n",
       "      <td>94928</td>\n",
       "    </tr>\n",
       "    <tr>\n",
       "      <th>22785</th>\n",
       "      <td>438977</td>\n",
       "      <td>1542</td>\n",
       "      <td>9/4/2014 18:37</td>\n",
       "      <td>Civic Center BART (7th at Market)</td>\n",
       "      <td>72</td>\n",
       "      <td>9/4/2014 19:03</td>\n",
       "      <td>Embarcadero at Sansome</td>\n",
       "      <td>60</td>\n",
       "      <td>428</td>\n",
       "      <td>Subscriber</td>\n",
       "      <td>94133</td>\n",
       "    </tr>\n",
       "  </tbody>\n",
       "</table>\n",
       "</div>"
      ],
      "text/plain": [
       "            id  duration       start_date                 start_station_name  \\\n",
       "405854  591435       206   1/5/2015 16:51                  Steuart at Market   \n",
       "246989  448533       213  9/11/2014 15:05                    2nd at Townsend   \n",
       "22785   438977      1542   9/4/2014 18:37  Civic Center BART (7th at Market)   \n",
       "\n",
       "        start_station_id         end_date        end_station_name  \\\n",
       "405854                74   1/5/2015 16:55   Embarcadero at Bryant   \n",
       "246989                61  9/11/2014 15:09           2nd at Folsom   \n",
       "22785                 72   9/4/2014 19:03  Embarcadero at Sansome   \n",
       "\n",
       "        end_station_id  bike_id subscription_type zip_code  \n",
       "405854              54      408        Subscriber    94114  \n",
       "246989              62      403        Subscriber    94928  \n",
       "22785               60      428        Subscriber    94133  "
      ]
     },
     "execution_count": 108,
     "metadata": {},
     "output_type": "execute_result"
    }
   ],
   "source": [
    "train.sample(3)"
   ]
  },
  {
   "cell_type": "code",
   "execution_count": 109,
   "metadata": {},
   "outputs": [
    {
     "data": {
      "text/html": [
       "<div>\n",
       "<style>\n",
       "    .dataframe thead tr:only-child th {\n",
       "        text-align: right;\n",
       "    }\n",
       "\n",
       "    .dataframe thead th {\n",
       "        text-align: left;\n",
       "    }\n",
       "\n",
       "    .dataframe tbody tr th {\n",
       "        vertical-align: top;\n",
       "    }\n",
       "</style>\n",
       "<table border=\"1\" class=\"dataframe\">\n",
       "  <thead>\n",
       "    <tr style=\"text-align: right;\">\n",
       "      <th></th>\n",
       "      <th>id</th>\n",
       "      <th>start_date</th>\n",
       "      <th>start_station_name</th>\n",
       "      <th>start_station_id</th>\n",
       "      <th>end_date</th>\n",
       "      <th>end_station_name</th>\n",
       "      <th>end_station_id</th>\n",
       "      <th>bike_id</th>\n",
       "      <th>subscription_type</th>\n",
       "      <th>zip_code</th>\n",
       "    </tr>\n",
       "  </thead>\n",
       "  <tbody>\n",
       "    <tr>\n",
       "      <th>111458</th>\n",
       "      <td>268670</td>\n",
       "      <td>5/1/2014 18:44</td>\n",
       "      <td>Market at 4th</td>\n",
       "      <td>76</td>\n",
       "      <td>5/1/2014 18:50</td>\n",
       "      <td>Washington at Kearny</td>\n",
       "      <td>46</td>\n",
       "      <td>265</td>\n",
       "      <td>Subscriber</td>\n",
       "      <td>94133</td>\n",
       "    </tr>\n",
       "    <tr>\n",
       "      <th>7199</th>\n",
       "      <td>190942</td>\n",
       "      <td>2/20/2014 18:08</td>\n",
       "      <td>Temporary Transbay Terminal (Howard at Beale)</td>\n",
       "      <td>55</td>\n",
       "      <td>2/20/2014 18:18</td>\n",
       "      <td>San Francisco Caltrain 2 (330 Townsend)</td>\n",
       "      <td>69</td>\n",
       "      <td>534</td>\n",
       "      <td>Subscriber</td>\n",
       "      <td>94404</td>\n",
       "    </tr>\n",
       "    <tr>\n",
       "      <th>14924</th>\n",
       "      <td>678684</td>\n",
       "      <td>3/12/2015 9:25</td>\n",
       "      <td>Harry Bridges Plaza (Ferry Building)</td>\n",
       "      <td>50</td>\n",
       "      <td>3/12/2015 9:31</td>\n",
       "      <td>Embarcadero at Sansome</td>\n",
       "      <td>60</td>\n",
       "      <td>29</td>\n",
       "      <td>Subscriber</td>\n",
       "      <td>94111</td>\n",
       "    </tr>\n",
       "  </tbody>\n",
       "</table>\n",
       "</div>"
      ],
      "text/plain": [
       "            id       start_date  \\\n",
       "111458  268670   5/1/2014 18:44   \n",
       "7199    190942  2/20/2014 18:08   \n",
       "14924   678684   3/12/2015 9:25   \n",
       "\n",
       "                                   start_station_name  start_station_id  \\\n",
       "111458                                  Market at 4th                76   \n",
       "7199    Temporary Transbay Terminal (Howard at Beale)                55   \n",
       "14924            Harry Bridges Plaza (Ferry Building)                50   \n",
       "\n",
       "               end_date                         end_station_name  \\\n",
       "111458   5/1/2014 18:50                     Washington at Kearny   \n",
       "7199    2/20/2014 18:18  San Francisco Caltrain 2 (330 Townsend)   \n",
       "14924    3/12/2015 9:31                   Embarcadero at Sansome   \n",
       "\n",
       "        end_station_id  bike_id subscription_type zip_code  \n",
       "111458              46      265        Subscriber    94133  \n",
       "7199                69      534        Subscriber    94404  \n",
       "14924               60       29        Subscriber    94111  "
      ]
     },
     "execution_count": 109,
     "metadata": {},
     "output_type": "execute_result"
    }
   ],
   "source": [
    "test.sample(3)"
   ]
  },
  {
   "cell_type": "markdown",
   "metadata": {},
   "source": [
    "> Los nombres de las estaciones no son necesarios ya que se conocen sus identificaciones.\n",
    "\n",
    "> El tipo de suscripción se puede convertir a un número. Además sólo hay dos tipos de suscripción.\n",
    "\n",
    "> Las identificaciones de los viajes tampoco son necesarias ya que no aportan informacion útil. (Al menos a mí no me parece obvio) -mk\n",
    "\n",
    "> (Zip-code, en este caso no me acuerdo que era, pero creo se puede sacar. Además, hay algunos datos con NaN)\n",
    "\n",
    "(El set de testeo (creo) que __NO__ se debe tocar (en cuanto a valores NaN y eso) aunque si el formato de fechas, etc)"
   ]
  },
  {
   "cell_type": "code",
   "execution_count": 111,
   "metadata": {
    "collapsed": true
   },
   "outputs": [],
   "source": [
    "# Cambiamos los nombres de los features, para que sea mas facil de leer\n",
    "renombres = {'subscription_type': 'sub_type',\n",
    "             'start_station_name': 'ss_name',\n",
    "             'end_station_name': 'es_name',\n",
    "             'start_station_id': 'ss_id',\n",
    "             'end_station_id': 'es_id',\n",
    "             'start_date': 's_date',\n",
    "             'end_date': 'e_date',\n",
    "             'zip_code': 'z_code',\n",
    "             'bike_id': 'b_id'}\n",
    "\n",
    "train.rename(columns=renombres, inplace=True)\n",
    "test.rename(columns=renombres, inplace=True)"
   ]
  },
  {
   "cell_type": "code",
   "execution_count": 112,
   "metadata": {
    "collapsed": true
   },
   "outputs": [],
   "source": [
    "# Convirtiendo el formato de fecha\n",
    "# el parametro 'format' hace que se ejecute un poco mas rapido\n",
    "train.s_date = pd.to_datetime(train.s_date, format='%m/%d/%Y %H:%M')\n",
    "train.e_date = pd.to_datetime(train.e_date, format='%m/%d/%Y %H:%M')\n",
    "test.s_date = pd.to_datetime(test.s_date, format='%m/%d/%Y %H:%M')\n",
    "test.e_date = pd.to_datetime(test.e_date, format='%m/%d/%Y %H:%M')\n",
    "\n",
    "# Creamos una columna 'date' para poder hacer un merge con los datos del clima\n",
    "train['date'] = pd.DatetimeIndex(train.s_date).normalize()\n",
    "\n",
    "# Convirtiendo a unix time\n",
    "#train.s_date = pd.DatetimeIndex(train.s_date).astype(np.int64) // 10**9\n",
    "#train.e_date = pd.DatetimeIndex(train.e_date).astype(np.int64) // 10**9\n",
    "#test.s_date = pd.DatetimeIndex(test.s_date).astype(np.int64) // 10**9\n",
    "#test.e_date = pd.DatetimeIndex(test.e_date).astype(np.int64) // 10**9"
   ]
  },
  {
   "cell_type": "code",
   "execution_count": 113,
   "metadata": {
    "collapsed": true
   },
   "outputs": [],
   "source": [
    "# Quitamos los datos invalidos\n",
    "# (los NaN y eso)"
   ]
  },
  {
   "cell_type": "code",
   "execution_count": 114,
   "metadata": {
    "collapsed": true
   },
   "outputs": [],
   "source": [
    "# Quitamos las columnas ss_name y es_name porque no son necesarias\n",
    "train.drop(['ss_name','es_name','z_code','id'], axis=1, inplace=True)"
   ]
  },
  {
   "cell_type": "markdown",
   "metadata": {},
   "source": [
    "#### Añadiendo información\n",
    "\n",
    "##### Clima\n",
    "\n",
    "(No hay un motivo específico por el cual dejo algunos datos. Solo es para juntar los datos)"
   ]
  },
  {
   "cell_type": "code",
   "execution_count": 115,
   "metadata": {
    "collapsed": true
   },
   "outputs": [],
   "source": [
    "weather = pd.read_csv('./data/weather.csv')\n",
    "weather.rename(columns={'mean_temperature_f':'temp','mean_visibility_miles':'vis','mean_wind_speed_mph':'wind'},inplace=True)\n",
    "weather = weather[['date','temp','vis','wind']]\n",
    "weather.date = pd.to_datetime(weather.date, format='%m/%d/%Y')"
   ]
  },
  {
   "cell_type": "code",
   "execution_count": 116,
   "metadata": {
    "collapsed": true
   },
   "outputs": [],
   "source": [
    "df = pd.merge(train, weather, how='right', on='date')"
   ]
  },
  {
   "cell_type": "code",
   "execution_count": 126,
   "metadata": {
    "collapsed": true
   },
   "outputs": [
    {
     "ename": "ValueError",
     "evalue": "labels ['date'] not contained in axis",
     "output_type": "error",
     "traceback": [
      "\u001b[0;31m---------------------------------------------------------------------------\u001b[0m",
      "\u001b[0;31mValueError\u001b[0m                                Traceback (most recent call last)",
      "\u001b[0;32m<ipython-input-126-4af3a9a7e8cc>\u001b[0m in \u001b[0;36m<module>\u001b[0;34m()\u001b[0m\n\u001b[1;32m      1\u001b[0m \u001b[0;31m# Quitamos la columna 'date' que fue necesaria solamente para juntar con 'weather'\u001b[0m\u001b[0;34m\u001b[0m\u001b[0;34m\u001b[0m\u001b[0m\n\u001b[0;32m----> 2\u001b[0;31m \u001b[0mdf\u001b[0m\u001b[0;34m.\u001b[0m\u001b[0mdrop\u001b[0m\u001b[0;34m(\u001b[0m\u001b[0;34m'date'\u001b[0m\u001b[0;34m,\u001b[0m \u001b[0maxis\u001b[0m\u001b[0;34m=\u001b[0m\u001b[0;36m1\u001b[0m\u001b[0;34m,\u001b[0m \u001b[0minplace\u001b[0m\u001b[0;34m=\u001b[0m\u001b[0mTrue\u001b[0m\u001b[0;34m)\u001b[0m\u001b[0;34m\u001b[0m\u001b[0m\n\u001b[0m",
      "\u001b[0;32m/home/mk/p2env/lib/python2.7/site-packages/pandas/core/generic.pyc\u001b[0m in \u001b[0;36mdrop\u001b[0;34m(self, labels, axis, level, inplace, errors)\u001b[0m\n\u001b[1;32m   2048\u001b[0m                 \u001b[0mnew_axis\u001b[0m \u001b[0;34m=\u001b[0m \u001b[0maxis\u001b[0m\u001b[0;34m.\u001b[0m\u001b[0mdrop\u001b[0m\u001b[0;34m(\u001b[0m\u001b[0mlabels\u001b[0m\u001b[0;34m,\u001b[0m \u001b[0mlevel\u001b[0m\u001b[0;34m=\u001b[0m\u001b[0mlevel\u001b[0m\u001b[0;34m,\u001b[0m \u001b[0merrors\u001b[0m\u001b[0;34m=\u001b[0m\u001b[0merrors\u001b[0m\u001b[0;34m)\u001b[0m\u001b[0;34m\u001b[0m\u001b[0m\n\u001b[1;32m   2049\u001b[0m             \u001b[0;32melse\u001b[0m\u001b[0;34m:\u001b[0m\u001b[0;34m\u001b[0m\u001b[0m\n\u001b[0;32m-> 2050\u001b[0;31m                 \u001b[0mnew_axis\u001b[0m \u001b[0;34m=\u001b[0m \u001b[0maxis\u001b[0m\u001b[0;34m.\u001b[0m\u001b[0mdrop\u001b[0m\u001b[0;34m(\u001b[0m\u001b[0mlabels\u001b[0m\u001b[0;34m,\u001b[0m \u001b[0merrors\u001b[0m\u001b[0;34m=\u001b[0m\u001b[0merrors\u001b[0m\u001b[0;34m)\u001b[0m\u001b[0;34m\u001b[0m\u001b[0m\n\u001b[0m\u001b[1;32m   2051\u001b[0m             \u001b[0mdropped\u001b[0m \u001b[0;34m=\u001b[0m \u001b[0mself\u001b[0m\u001b[0;34m.\u001b[0m\u001b[0mreindex\u001b[0m\u001b[0;34m(\u001b[0m\u001b[0;34m**\u001b[0m\u001b[0;34m{\u001b[0m\u001b[0maxis_name\u001b[0m\u001b[0;34m:\u001b[0m \u001b[0mnew_axis\u001b[0m\u001b[0;34m}\u001b[0m\u001b[0;34m)\u001b[0m\u001b[0;34m\u001b[0m\u001b[0m\n\u001b[1;32m   2052\u001b[0m             \u001b[0;32mtry\u001b[0m\u001b[0;34m:\u001b[0m\u001b[0;34m\u001b[0m\u001b[0m\n",
      "\u001b[0;32m/home/mk/p2env/lib/python2.7/site-packages/pandas/core/indexes/base.pyc\u001b[0m in \u001b[0;36mdrop\u001b[0;34m(self, labels, errors)\u001b[0m\n\u001b[1;32m   3573\u001b[0m             \u001b[0;32mif\u001b[0m \u001b[0merrors\u001b[0m \u001b[0;34m!=\u001b[0m \u001b[0;34m'ignore'\u001b[0m\u001b[0;34m:\u001b[0m\u001b[0;34m\u001b[0m\u001b[0m\n\u001b[1;32m   3574\u001b[0m                 raise ValueError('labels %s not contained in axis' %\n\u001b[0;32m-> 3575\u001b[0;31m                                  labels[mask])\n\u001b[0m\u001b[1;32m   3576\u001b[0m             \u001b[0mindexer\u001b[0m \u001b[0;34m=\u001b[0m \u001b[0mindexer\u001b[0m\u001b[0;34m[\u001b[0m\u001b[0;34m~\u001b[0m\u001b[0mmask\u001b[0m\u001b[0;34m]\u001b[0m\u001b[0;34m\u001b[0m\u001b[0m\n\u001b[1;32m   3577\u001b[0m         \u001b[0;32mreturn\u001b[0m \u001b[0mself\u001b[0m\u001b[0;34m.\u001b[0m\u001b[0mdelete\u001b[0m\u001b[0;34m(\u001b[0m\u001b[0mindexer\u001b[0m\u001b[0;34m)\u001b[0m\u001b[0;34m\u001b[0m\u001b[0m\n",
      "\u001b[0;31mValueError\u001b[0m: labels ['date'] not contained in axis"
     ]
    }
   ],
   "source": [
    "# Quitamos la columna 'date' que fue necesaria solamente para juntar con 'weather'\n",
    "df.drop('date', axis=1, inplace=True)"
   ]
  },
  {
   "cell_type": "code",
   "execution_count": 128,
   "metadata": {},
   "outputs": [
    {
     "data": {
      "text/html": [
       "<div>\n",
       "<style>\n",
       "    .dataframe thead tr:only-child th {\n",
       "        text-align: right;\n",
       "    }\n",
       "\n",
       "    .dataframe thead th {\n",
       "        text-align: left;\n",
       "    }\n",
       "\n",
       "    .dataframe tbody tr th {\n",
       "        vertical-align: top;\n",
       "    }\n",
       "</style>\n",
       "<table border=\"1\" class=\"dataframe\">\n",
       "  <thead>\n",
       "    <tr style=\"text-align: right;\">\n",
       "      <th></th>\n",
       "      <th>duration</th>\n",
       "      <th>s_date</th>\n",
       "      <th>ss_id</th>\n",
       "      <th>e_date</th>\n",
       "      <th>es_id</th>\n",
       "      <th>b_id</th>\n",
       "      <th>sub_type</th>\n",
       "      <th>temp</th>\n",
       "      <th>vis</th>\n",
       "      <th>wind</th>\n",
       "    </tr>\n",
       "  </thead>\n",
       "  <tbody>\n",
       "    <tr>\n",
       "      <th>2136480</th>\n",
       "      <td>619</td>\n",
       "      <td>1430422920</td>\n",
       "      <td>50</td>\n",
       "      <td>1430423580</td>\n",
       "      <td>61</td>\n",
       "      <td>560</td>\n",
       "      <td>Subscriber</td>\n",
       "      <td>70.0</td>\n",
       "      <td>10.0</td>\n",
       "      <td>4.0</td>\n",
       "    </tr>\n",
       "  </tbody>\n",
       "</table>\n",
       "</div>"
      ],
      "text/plain": [
       "         duration      s_date  ss_id      e_date  es_id  b_id    sub_type  \\\n",
       "2136480       619  1430422920     50  1430423580     61   560  Subscriber   \n",
       "\n",
       "         temp   vis  wind  \n",
       "2136480  70.0  10.0   4.0  "
      ]
     },
     "execution_count": 128,
     "metadata": {},
     "output_type": "execute_result"
    }
   ],
   "source": [
    "df.sample(1)"
   ]
  },
  {
   "cell_type": "markdown",
   "metadata": {},
   "source": [
    "##### Distancias"
   ]
  },
  {
   "cell_type": "code",
   "execution_count": 120,
   "metadata": {
    "collapsed": true
   },
   "outputs": [],
   "source": [
    "stations = pd.read_csv('./data/station.csv', low_memory=False)\n",
    "stations.drop(['name','installation_date'], axis=1, inplace=True)"
   ]
  },
  {
   "cell_type": "code",
   "execution_count": 121,
   "metadata": {
    "collapsed": true
   },
   "outputs": [],
   "source": [
    "from math import cos,sqrt,pi\n",
    "\n",
    "def dist(a, b):\n",
    "    '''\n",
    "        a partir de dos tuplas a y b, cada una con coordenadas geograficas (lat, lon),\n",
    "        calcula la distancia euclidea entre ambas coordenadas y devuelve dicha distancia\n",
    "    '''\n",
    "    p = pi / 180\n",
    "    x = (a[0] * p, a[1] * p)\n",
    "    y = (b[0] * p, b[1] * p)\n",
    "    f_m = (x[0] + y[0]) / 2\n",
    "    d_lat = x[0] - y[0]\n",
    "    d_lon = x[1] - y[1]\n",
    "    return sqrt((d_lat)**2 + (cos(f_m) * d_lon)**2)"
   ]
  },
  {
   "cell_type": "code",
   "execution_count": 122,
   "metadata": {},
   "outputs": [],
   "source": [
    "# Creando un dataframe de distancias\n",
    "distancias = pd.DataFrame(columns=('ss_id','es_id','dist'))\n",
    "\n",
    "for i in stations.values:\n",
    "    for j in stations.values:\n",
    "        distancias = distancias.append(pd.DataFrame({'ss_id':[i[0]],\n",
    "                                                     'es_id':[j[0]],\n",
    "                                                     'dist':[dist((i[1],i[2]),(j[1],j[2]))]}))"
   ]
  },
  {
   "cell_type": "code",
   "execution_count": 123,
   "metadata": {},
   "outputs": [],
   "source": [
    "df = df.merge(distancias, how='left', on=['ss_id','es_id'])"
   ]
  },
  {
   "cell_type": "code",
   "execution_count": 124,
   "metadata": {
    "scrolled": true
   },
   "outputs": [
    {
     "data": {
      "text/html": [
       "<div>\n",
       "<style>\n",
       "    .dataframe thead tr:only-child th {\n",
       "        text-align: right;\n",
       "    }\n",
       "\n",
       "    .dataframe thead th {\n",
       "        text-align: left;\n",
       "    }\n",
       "\n",
       "    .dataframe tbody tr th {\n",
       "        vertical-align: top;\n",
       "    }\n",
       "</style>\n",
       "<table border=\"1\" class=\"dataframe\">\n",
       "  <thead>\n",
       "    <tr style=\"text-align: right;\">\n",
       "      <th></th>\n",
       "      <th>duration</th>\n",
       "      <th>s_date</th>\n",
       "      <th>ss_id</th>\n",
       "      <th>e_date</th>\n",
       "      <th>es_id</th>\n",
       "      <th>b_id</th>\n",
       "      <th>sub_type</th>\n",
       "      <th>temp</th>\n",
       "      <th>vis</th>\n",
       "      <th>wind</th>\n",
       "      <th>dist</th>\n",
       "    </tr>\n",
       "  </thead>\n",
       "  <tbody>\n",
       "    <tr>\n",
       "      <th>2183445</th>\n",
       "      <td>832</td>\n",
       "      <td>1426615680</td>\n",
       "      <td>82</td>\n",
       "      <td>1426616520</td>\n",
       "      <td>69</td>\n",
       "      <td>564</td>\n",
       "      <td>Subscriber</td>\n",
       "      <td>60.0</td>\n",
       "      <td>10.0</td>\n",
       "      <td>6.0</td>\n",
       "      <td>0.000390</td>\n",
       "    </tr>\n",
       "    <tr>\n",
       "      <th>2451591</th>\n",
       "      <td>3283</td>\n",
       "      <td>1394816100</td>\n",
       "      <td>28</td>\n",
       "      <td>1394819400</td>\n",
       "      <td>28</td>\n",
       "      <td>134</td>\n",
       "      <td>Customer</td>\n",
       "      <td>58.0</td>\n",
       "      <td>15.0</td>\n",
       "      <td>7.0</td>\n",
       "      <td>0.000000</td>\n",
       "    </tr>\n",
       "    <tr>\n",
       "      <th>2229442</th>\n",
       "      <td>381</td>\n",
       "      <td>1387895400</td>\n",
       "      <td>68</td>\n",
       "      <td>1387895820</td>\n",
       "      <td>70</td>\n",
       "      <td>426</td>\n",
       "      <td>Subscriber</td>\n",
       "      <td>54.0</td>\n",
       "      <td>9.0</td>\n",
       "      <td>0.0</td>\n",
       "      <td>0.000165</td>\n",
       "    </tr>\n",
       "    <tr>\n",
       "      <th>1084189</th>\n",
       "      <td>324</td>\n",
       "      <td>1422383760</td>\n",
       "      <td>70</td>\n",
       "      <td>1422384060</td>\n",
       "      <td>68</td>\n",
       "      <td>404</td>\n",
       "      <td>Subscriber</td>\n",
       "      <td>60.0</td>\n",
       "      <td>10.0</td>\n",
       "      <td>5.0</td>\n",
       "      <td>0.000165</td>\n",
       "    </tr>\n",
       "    <tr>\n",
       "      <th>2105564</th>\n",
       "      <td>533</td>\n",
       "      <td>1402936440</td>\n",
       "      <td>61</td>\n",
       "      <td>1402936980</td>\n",
       "      <td>74</td>\n",
       "      <td>395</td>\n",
       "      <td>Subscriber</td>\n",
       "      <td>61.0</td>\n",
       "      <td>10.0</td>\n",
       "      <td>14.0</td>\n",
       "      <td>0.000244</td>\n",
       "    </tr>\n",
       "  </tbody>\n",
       "</table>\n",
       "</div>"
      ],
      "text/plain": [
       "         duration      s_date ss_id      e_date es_id  b_id    sub_type  temp  \\\n",
       "2183445       832  1426615680    82  1426616520    69   564  Subscriber  60.0   \n",
       "2451591      3283  1394816100    28  1394819400    28   134    Customer  58.0   \n",
       "2229442       381  1387895400    68  1387895820    70   426  Subscriber  54.0   \n",
       "1084189       324  1422383760    70  1422384060    68   404  Subscriber  60.0   \n",
       "2105564       533  1402936440    61  1402936980    74   395  Subscriber  61.0   \n",
       "\n",
       "          vis  wind      dist  \n",
       "2183445  10.0   6.0  0.000390  \n",
       "2451591  15.0   7.0  0.000000  \n",
       "2229442   9.0   0.0  0.000165  \n",
       "1084189  10.0   5.0  0.000165  \n",
       "2105564  10.0  14.0  0.000244  "
      ]
     },
     "execution_count": 124,
     "metadata": {},
     "output_type": "execute_result"
    }
   ],
   "source": [
    "df.sample(3)"
   ]
  },
  {
   "cell_type": "markdown",
   "metadata": {},
   "source": [
    "Con más datos incluidos, podemos hacer una reducción de dimensiones y visualizar el set de datos"
   ]
  },
  {
   "cell_type": "code",
   "execution_count": 129,
   "metadata": {
    "collapsed": true
   },
   "outputs": [],
   "source": [
    "#PCA con sk-learn"
   ]
  },
  {
   "cell_type": "markdown",
   "metadata": {},
   "source": [
    "---\n",
    "#### Modelo\n",
    "\n",
    "Finalmente, luego de realizar las consideraciones, en esta sección armamos el modelo que resuelva el problema de predicción.\n",
    "\n",
    "*plan*"
   ]
  },
  {
   "cell_type": "markdown",
   "metadata": {},
   "source": [
    "---\n",
    "#### Ejecución del modelo"
   ]
  }
 ],
 "metadata": {
  "kernelspec": {
   "display_name": "Python 2",
   "language": "python",
   "name": "python2"
  },
  "language_info": {
   "codemirror_mode": {
    "name": "ipython",
    "version": 2
   },
   "file_extension": ".py",
   "mimetype": "text/x-python",
   "name": "python",
   "nbconvert_exporter": "python",
   "pygments_lexer": "ipython2",
   "version": "2.7.13"
  }
 },
 "nbformat": 4,
 "nbformat_minor": 2
}
