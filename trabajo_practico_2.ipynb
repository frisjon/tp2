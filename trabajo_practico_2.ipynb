{
 "cells": [
  {
   "cell_type": "markdown",
   "metadata": {},
   "source": [
    "# Organización de Datos (9558)\n",
    "\n",
    "## Trabajo Práctico N° 2\n",
    "\n",
    "#### Fecha: 2017-06-22\n",
    "\n",
    "#### Integrantes:\n",
    "\n",
    "\n",
    "#### Repo:\n",
    "[Github - TP2](https://github.com/frisjon/tp2)"
   ]
  },
  {
   "cell_type": "markdown",
   "metadata": {},
   "source": [
    "---\n",
    "*tabla de contenidos*"
   ]
  },
  {
   "cell_type": "markdown",
   "metadata": {},
   "source": [
    "---\n",
    "#### Enunciado\n",
    "\n",
    "El segundo TP es una competencia de Machine Learning en donde cada grupo debe intentar predecir la duración de los viajes en base a los datos de los mismos. La competencia se desarrolla en la plataforma de Kaggle, se provee un archivo \"train.csv\" que debe ser usado para entrenar un modelo de Machine Learning y un archivo \"test.csv\" que tiene los datos de los viajes a predecir. Adicionalmente pueden usarse los datos de las estaciones, del status de cada estación minuto a minuto y la información meteorológica.\n",
    "\n",
    "ADVERTENCIA MUY IMPORTANTE: Dado que los datos son públicos los resultados de la competencia ya se saben, son parte de los datos del TP1, es fundamental que ningún grupo suba a Kaggle submissions que usan esta información ya que distorsiona el score de la competencia y una vez subido un submission es IMPOSIBLE ELIMINARLO. Los submissions\n",
    "deben generarse en base a un modelo de machine learning y nunca en base a los resultados que ya se conocen.\n",
    "\n",
    "TL;DR: NO SUBIR A KAGGLE SUBMISSIONS QUE HACEN TRAMPA, ES IMPOSIBLE BORRARLOS!!!\n",
    "\n",
    "Los grupos deberán probar distintos algoritmos de Machine Learning para predecir la duración de los viajes en base a los datos de los mismos. A medida que los grupos realicen pruebas deben realizar el correspondiente submit en Kaggle para evaluar el resultado de los mismos. Al finalizar la competencia el grupo que mejor resultado tenga obtendrá 10 puntos para cada uno de sus integrantes que podrán ser usados en el examen por promoción o segundo recuperatorio.\n",
    "\n",
    "Requisitos para la entrega del TP2:\n",
    "1. El TP debe programarse en Python o R\n",
    "- Debe entregarse una carpeta con el informe de algoritmos probados, algoritmo final utilizado, transformaciones realizadas a los datos, feature engineering, etc.\n",
    "- El grupo debe presentar el TP en una computadora en la fecha indicada por la cátedra, el TP debe correr en un lapso de tiempo razonable (inferior a 1 hora) y generar un submission válido que iguale el mejor resultado obtenido por el grupo en Kaggle.\n",
    "\n",
    "El TP2 se va a evaluar en función del siguiente criterio:\n",
    "1. Cantidad de trabajo (esfuerzo) del grupo: ¿Probaron muchos algoritmos? ¿Hicieron un buen trabajo de pre-procesamiento de los datos y feature engineering?\n",
    "- Resultado obtenido en Kaggle (obviamente cuanto mejor resultado mejor nota)\n",
    "- Presentación final del informe, calidad de la redacción, uso de información obtenida en el TP1, conclusiones presentadas.\n",
    "- Performance de la solución final.\n",
    "\n",
    "\n",
    "ADVERTENCIA IMPORTANTE #2: Bajo ningún concepto debe interpretarse que es necesario finalizar el TP1 para poder comenzar el TP2, quienes incurran en este error se encontrarán que el tiempo necesario para desarrollar el TP2 es insuficiente. Es fundamental, imprescindible y vital comenzar el desarrollo del TP2 en forma paralela al TP1 para evitar problemas en el cumpimiento de las fechas de entrega."
   ]
  },
  {
   "cell_type": "markdown",
   "metadata": {},
   "source": [
    "---\n",
    "#### [Descipción](https://inclass.kaggle.com/c/san-francisco-biking)\n",
    "\n",
    "El propósito de esta competencia es predecir la duración de los viajes.\n",
    "\n",
    "El objetivo de esta competencia es predecir la duración de los viajes de acuerdo a los datos de los mismos, la información meteorológica, etc.\n",
    "\n",
    "Pueden usarse los siguientes archivos disponibles en:\n",
    "\n",
    "https://www.kaggle.com/benhamner/sf-bay-area-bike-share\n",
    "\n",
    "    .status\n",
    "    .station \n",
    "    .weather\n",
    "\n",
    "Para los viajes debe usarse el archivo train.csv provisto par entrenar el modelo y el archivo test.csv tiene los datos de los viajes a predecir.\n",
    "\n",
    "IMPORTANTE: El archivo trips.csv del TP anterior tiene los resultados que queremos predecir, estos resultados NO DEBEN usarse de ninguna forma para el entrenamiento del modelo. No subir a Kaggle ningún submission que sea generado a partir de estos datos ya que afecta la evaluación de la competencia y NO ES POSIBLE ELIMINAR SUBMISSIONS. "
   ]
  },
  {
   "cell_type": "markdown",
   "metadata": {},
   "source": [
    "---\n",
    "#### [Evaluación y Formato de Entrega](https://inclass.kaggle.com/c/san-francisco-biking/details/evaluation)\n",
    "\n",
    "La evaluación es por Mean Squared Error es decir la diferencia de cuadrados entre la duración real del viaje y la duración que se predice mediante el modelo de Machine Learning usado.\n",
    "\n",
    "El formato de submission es un archivo .csv de la forma:\n",
    "\n",
    "    id,duration\n",
    "    1,1\n",
    "    8,8\n",
    "    9,9 10\n",
    "    10,10 9\n",
    "    etc."
   ]
  },
  {
   "cell_type": "markdown",
   "metadata": {},
   "source": [
    "---\n",
    "#### Conclusiones del TP 1\n",
    "\n",
    "> Los usuarios del serivicio, en su mayoria, lo utiliza para trasladarse al trabajo.\n",
    "\n",
    "> Ya conocemos cuáles son los datos a filtrar.\n",
    "\n",
    "> ... (agregar mas)"
   ]
  },
  {
   "cell_type": "markdown",
   "metadata": {},
   "source": [
    "---\n",
    "#### Algunos comentarios sobre cosas en general (eliminar al terminar el tp)\n",
    "\n",
    "Entender como se resuelve. Utilizamos perceptrones, etc?\n",
    "\n",
    "Analizar los datos y determinar qué features son importantes.\n",
    "\n",
    "Armar el modelo. (Cómo juntar los features)\n",
    "\n",
    "Probar lo de cross validation, etc\n",
    "\n",
    "---\n",
    "Antes de seguir leyendo, podemos averiguar sobre cómo otras personas encaran este tipo de proyectos. Tal vez las preguntas se consteten de esa manera. \n",
    "\n",
    "[kernels de kaggle](https://www.kaggle.com/benhamner/sf-bay-area-bike-share/kernels)\n",
    "\n",
    "[papers](https://drive.google.com/drive/u/0/folders/0B8rBD4QSqWnSRDRFUkVDSnVMMFk)"
   ]
  },
  {
   "cell_type": "markdown",
   "metadata": {},
   "source": [
    "---\n",
    "#### Introduciendo a la API\n",
    "\n",
    "[Tensorflow](https://www.tensorflow.org/get_started/get_started)\n",
    "\n",
    ">(En el link, hay explicaciones de las estructuras utilizadas en tensorflow.) -mk\n",
    "\n",
    ">(Asumiendo que utilizamos tensorflow, podemos armar un modelo basico.) -mk\n",
    "\n",
    ">##### Ejemplo de una parte del modelo\n",
    "\n",
    ">Un dato entra, separamos las partes (o dimensiones) que consideramos importantes, realizamos cálculos con ellos y devolvemos un resultado.\n",
    "\n",
    ">Una parte del algoritmo (un *nodo* en tensorflow), podría tomar como parámetros a las id's de las estaciones y devolver la distancia entre ellas. Luego la distancia, irá por otras partes del modelo que serán utilizadas para determinar el resultado final que es la duración del viaje.\n",
    "\n",
    ">(Acá van las consideraciones de la api, (que estructuras de datos estan disponibles, como se pueden utilizar y como las VAMOS a utilizar). Despues en __plan__, ya juntamos todas las consideraciones y formamos el plan) -mk\n",
    "\n",
    "[SciKit-Learn](http://scikit-learn.org/stable/index.html)\n",
    "\n",
    ">Tiene muchas cosas implementadas."
   ]
  },
  {
   "cell_type": "markdown",
   "metadata": {},
   "source": [
    "---\n",
    "#### Sets de Datos y Feature Engineering\n",
    "\n",
    "En esta sección analizamos los datos a modo de preparación de armado del modelo.\n",
    "\n",
    "Los sets de datos son:\n",
    "\n",
    ">[Entrenamiento y testeo](https://inclass.kaggle.com/c/san-francisco-biking/data) ( https://inclass.kaggle.com/c/san-francisco-biking/data )\n",
    "\n",
    ">[Set de datos del TP1](https://www.kaggle.com/benhamner/sf-bay-area-bike-share) ( https://www.kaggle.com/benhamner/sf-bay-area-bike-share )"
   ]
  },
  {
   "cell_type": "code",
   "execution_count": 1,
   "metadata": {
    "collapsed": true
   },
   "outputs": [],
   "source": [
    "# esto es solo para controlar los tiempos\n",
    "import time\n",
    "start = time.time()"
   ]
  },
  {
   "cell_type": "code",
   "execution_count": 2,
   "metadata": {
    "collapsed": true
   },
   "outputs": [],
   "source": [
    "import pandas as pd\n",
    "import numpy as np\n",
    "import seaborn as sns\n",
    "\n",
    "import matplotlib.pyplot as plt\n",
    "%matplotlib inline"
   ]
  },
  {
   "cell_type": "code",
   "execution_count": 3,
   "metadata": {
    "collapsed": true
   },
   "outputs": [],
   "source": [
    "# Leemos los datos del set de entrenamiento\n",
    "train = pd.read_csv('./data/train.csv', low_memory=False)"
   ]
  },
  {
   "cell_type": "code",
   "execution_count": 4,
   "metadata": {},
   "outputs": [
    {
     "data": {
      "image/png": "[encoded data removed]",
      "text/plain": [
       "<matplotlib.figure.Figure at 0x7fd2119acc10>"
      ]
     },
     "metadata": {},
     "output_type": "display_data"
    }
   ],
   "source": [
    "train[['id', 'duration']].groupby('duration').count().head(3000).plot(figsize=(23, 7));\n",
    "plt.title('Cantidad de viajes por duracion');\n",
    "plt.xlabel('Duracion');\n",
    "plt.ylabel('Cantidad de viajes');"
   ]
  },
  {
   "cell_type": "markdown",
   "metadata": {},
   "source": [
    "Del gráfico se observa que hay una gran cantidad de viajes de duración entre 200 y 600 segundos. (__Atención__: En el gráfico se muestran 3.000 de 14.614 duraciones diferentes)"
   ]
  },
  {
   "cell_type": "markdown",
   "metadata": {},
   "source": [
    "---\n",
    "##### Datos a filtrar\n",
    "\n",
    "Para manejar y visualizar los datos, utilizamos *pandas*."
   ]
  },
  {
   "cell_type": "code",
   "execution_count": 5,
   "metadata": {
    "collapsed": true
   },
   "outputs": [],
   "source": [
    "train = pd.read_csv('./data/train.csv', low_memory=False)"
   ]
  },
  {
   "cell_type": "code",
   "execution_count": 6,
   "metadata": {},
   "outputs": [
    {
     "data": {
      "text/html": [
       "<div>\n",
       "<style>\n",
       "    .dataframe thead tr:only-child th {\n",
       "        text-align: right;\n",
       "    }\n",
       "\n",
       "    .dataframe thead th {\n",
       "        text-align: left;\n",
       "    }\n",
       "\n",
       "    .dataframe tbody tr th {\n",
       "        vertical-align: top;\n",
       "    }\n",
       "</style>\n",
       "<table border=\"1\" class=\"dataframe\">\n",
       "  <thead>\n",
       "    <tr style=\"text-align: right;\">\n",
       "      <th></th>\n",
       "      <th>id</th>\n",
       "      <th>duration</th>\n",
       "      <th>start_date</th>\n",
       "      <th>start_station_name</th>\n",
       "      <th>start_station_id</th>\n",
       "      <th>end_date</th>\n",
       "      <th>end_station_name</th>\n",
       "      <th>end_station_id</th>\n",
       "      <th>bike_id</th>\n",
       "      <th>subscription_type</th>\n",
       "      <th>zip_code</th>\n",
       "    </tr>\n",
       "  </thead>\n",
       "  <tbody>\n",
       "    <tr>\n",
       "      <th>464757</th>\n",
       "      <td>468364</td>\n",
       "      <td>222</td>\n",
       "      <td>9/24/2014 18:05</td>\n",
       "      <td>Townsend at 7th</td>\n",
       "      <td>65</td>\n",
       "      <td>9/24/2014 18:09</td>\n",
       "      <td>San Francisco Caltrain (Townsend at 4th)</td>\n",
       "      <td>70</td>\n",
       "      <td>370</td>\n",
       "      <td>Subscriber</td>\n",
       "      <td>95054</td>\n",
       "    </tr>\n",
       "    <tr>\n",
       "      <th>458911</th>\n",
       "      <td>791116</td>\n",
       "      <td>511</td>\n",
       "      <td>6/2/2015 18:26</td>\n",
       "      <td>Steuart at Market</td>\n",
       "      <td>74</td>\n",
       "      <td>6/2/2015 18:34</td>\n",
       "      <td>2nd at Townsend</td>\n",
       "      <td>61</td>\n",
       "      <td>387</td>\n",
       "      <td>Subscriber</td>\n",
       "      <td>94107</td>\n",
       "    </tr>\n",
       "    <tr>\n",
       "      <th>32690</th>\n",
       "      <td>520825</td>\n",
       "      <td>513</td>\n",
       "      <td>10/29/2014 11:42</td>\n",
       "      <td>2nd at Folsom</td>\n",
       "      <td>62</td>\n",
       "      <td>10/29/2014 11:51</td>\n",
       "      <td>Powell at Post (Union Square)</td>\n",
       "      <td>71</td>\n",
       "      <td>629</td>\n",
       "      <td>Subscriber</td>\n",
       "      <td>94107</td>\n",
       "    </tr>\n",
       "  </tbody>\n",
       "</table>\n",
       "</div>"
      ],
      "text/plain": [
       "            id  duration        start_date start_station_name  \\\n",
       "464757  468364       222   9/24/2014 18:05    Townsend at 7th   \n",
       "458911  791116       511    6/2/2015 18:26  Steuart at Market   \n",
       "32690   520825       513  10/29/2014 11:42      2nd at Folsom   \n",
       "\n",
       "        start_station_id          end_date  \\\n",
       "464757                65   9/24/2014 18:09   \n",
       "458911                74    6/2/2015 18:34   \n",
       "32690                 62  10/29/2014 11:51   \n",
       "\n",
       "                                end_station_name  end_station_id  bike_id  \\\n",
       "464757  San Francisco Caltrain (Townsend at 4th)              70      370   \n",
       "458911                           2nd at Townsend              61      387   \n",
       "32690              Powell at Post (Union Square)              71      629   \n",
       "\n",
       "       subscription_type zip_code  \n",
       "464757        Subscriber    95054  \n",
       "458911        Subscriber    94107  \n",
       "32690         Subscriber    94107  "
      ]
     },
     "execution_count": 6,
     "metadata": {},
     "output_type": "execute_result"
    }
   ],
   "source": [
    "train.sample(3)"
   ]
  },
  {
   "cell_type": "markdown",
   "metadata": {},
   "source": [
    "Unas primeras observaciones son:\n",
    "\n",
    "> Los nombres de las estaciones no son necesarios ya que se conocen sus identificaciones.\n",
    ">\n",
    "> El tipo de suscripción se puede convertir a un número. Además sólo hay dos tipos de suscripción.\n",
    ">\n",
    "> Las identificaciones de los viajes tampoco son necesarias ya que no aportan informacion útil.\n",
    ">\n",
    "> (Zip-code, creo se puede sacar)"
   ]
  },
  {
   "cell_type": "code",
   "execution_count": 7,
   "metadata": {
    "collapsed": true
   },
   "outputs": [],
   "source": [
    "# Cambiamos los nombres de los features, para que sea mas fácil de leer\n",
    "nombres = {'subscription_type':  'sub_type',\n",
    "           'start_station_name': 'ss_name',\n",
    "           'end_station_name':   'es_name',\n",
    "           'start_station_id':   'ss_id',\n",
    "           'end_station_id':     'es_id',\n",
    "           'start_date':         's_date',\n",
    "           'end_date':           'e_date',\n",
    "           'zip_code':           'z_code',\n",
    "           'bike_id':            'b_id'}\n",
    "\n",
    "train.rename(columns=nombres, inplace=True)"
   ]
  },
  {
   "cell_type": "code",
   "execution_count": 8,
   "metadata": {
    "collapsed": true
   },
   "outputs": [],
   "source": [
    "# Convertimos el formato de fecha\n",
    "# El parametro 'format' hace que se ejecute un poco mas rápido\n",
    "train.s_date = pd.to_datetime(train.s_date, format='%m/%d/%Y %H:%M')\n",
    "train.e_date = pd.to_datetime(train.e_date, format='%m/%d/%Y %H:%M')\n",
    "\n",
    "# Creamos una columna 'date' para poder hacer un merge con los datos del clima\n",
    "train['date'] = pd.DatetimeIndex(train.s_date).normalize()"
   ]
  },
  {
   "cell_type": "code",
   "execution_count": 9,
   "metadata": {
    "collapsed": true
   },
   "outputs": [],
   "source": [
    "# Agregamos el dia de la semana\n",
    "# 0: Lunes\n",
    "# 1: Martes\n",
    "# 2: Miercoles\n",
    "# 3: Jueves\n",
    "# 4: Viernes\n",
    "# 5: Sabado\n",
    "# 6: Domingo\n",
    "\n",
    "train['s_day'] = train['s_date'].map(lambda x: x.weekday())\n",
    "train['e_day'] = train['e_date'].map(lambda x: x.weekday())"
   ]
  },
  {
   "cell_type": "code",
   "execution_count": 10,
   "metadata": {
    "collapsed": true
   },
   "outputs": [],
   "source": [
    "# Convertimos las fechas a unix time\n",
    "# En este paso convertimos a unix time, despues de pasarlo a formato datetime. creo que asi es mas rapido. probar\n",
    "train.s_date = pd.DatetimeIndex(train.s_date).astype(np.int64) // 10**9\n",
    "train.e_date = pd.DatetimeIndex(train.e_date).astype(np.int64) // 10**9"
   ]
  },
  {
   "cell_type": "code",
   "execution_count": 11,
   "metadata": {
    "collapsed": true
   },
   "outputs": [],
   "source": [
    "# Quitamos las columnas que no son necesarias\n",
    "train.drop(['ss_name', 'es_name', 'z_code', 'id'], axis=1, inplace=True)"
   ]
  },
  {
   "cell_type": "code",
   "execution_count": 12,
   "metadata": {
    "collapsed": true
   },
   "outputs": [],
   "source": [
    "# Funcion para convertir el tipo de subscripcion\n",
    "def sub_type(sub):\n",
    "    if sub == 'Customer': return 1\n",
    "    return 0"
   ]
  },
  {
   "cell_type": "code",
   "execution_count": 13,
   "metadata": {
    "collapsed": true
   },
   "outputs": [],
   "source": [
    "# Convertimos el tipo de subscripcion a valores numericos\n",
    "train.sub_type = train.sub_type.map(sub_type)"
   ]
  },
  {
   "cell_type": "markdown",
   "metadata": {},
   "source": [
    "#### Añadiendo información del clima y estaciones\n",
    "\n",
    "En esta sección agregamos información respecto al clima y distancias entre estaciones.\n",
    "\n",
    "##### Clima"
   ]
  },
  {
   "cell_type": "code",
   "execution_count": 14,
   "metadata": {
    "collapsed": true
   },
   "outputs": [],
   "source": [
    "# Leemos el set de weather\n",
    "weather = pd.read_csv('./data/weather.csv')"
   ]
  },
  {
   "cell_type": "code",
   "execution_count": 15,
   "metadata": {
    "collapsed": true
   },
   "outputs": [],
   "source": [
    "nombres = {'mean_sea_level_pressure_inches': 'mean_press',\n",
    "           'max_sea_level_pressure_inches': 'max_press',           \n",
    "           'min_sea_level_pressure_inches': 'min_press',\n",
    "           'precipitation_inches': 'precipitation',\n",
    "           'mean_visibility_miles': 'mean_vis',\n",
    "           'max_visibility_miles': 'max_vis',           \n",
    "           'min_visibility_miles': 'min_vis',\n",
    "           'mean_temperature_f': 'mean_temp_f',\n",
    "           'max_temperature_f': 'max_temp_f',           \n",
    "           'min_temperature_f': 'min_temp_f',           \n",
    "           'mean_wind_speed_mph': 'mean_wind',\n",
    "           'max_wind_Speed_mph': 'max_wind',           \n",
    "           'max_gust_speed_mph': 'max_gust',\n",
    "           'mean_dew_point_f': 'mean_dew_f',\n",
    "           'max_dew_point_f': 'max_dew_f',           \n",
    "           'min_dew_point_f': 'min_dew_f',\n",
    "           'wind_dir_degrees': 'wind_dir',\n",
    "           'mean_humidity': 'mean_hum',\n",
    "           'max_humidity': 'max_hum',           \n",
    "           'min_humidity': 'min_hum',\n",
    "           'zip_code': 'z_code',\n",
    "           'events': 'event'}\n",
    "\n",
    "weather.rename(columns=nombres, inplace=True)\n",
    "weather.date = pd.to_datetime(weather.date, format='%m/%d/%Y')"
   ]
  },
  {
   "cell_type": "code",
   "execution_count": 16,
   "metadata": {
    "collapsed": true
   },
   "outputs": [],
   "source": [
    "# Quitamos los features que no consideramos importantes\n",
    "drop = ['max_temp_f', 'min_temp_f', 'max_dew_f', 'min_dew_f', 'max_hum', 'min_hum', 'max_press', 'min_press', 'max_vis', 'min_vis', 'max_wind', 'max_gust', 'z_code']\n",
    "weather.drop(drop, axis=1, inplace=True)"
   ]
  },
  {
   "cell_type": "code",
   "execution_count": 17,
   "metadata": {
    "collapsed": true
   },
   "outputs": [],
   "source": [
    "# Funcion para clasificar estaciones climaticas.\n",
    "def estacion(date):\n",
    "    if date.month >= 3 and date.month <= 5:    return 1\n",
    "    elif date.month >= 6 and date.month <= 8:  return 2\n",
    "    elif date.month >= 9 and date.month <= 11: return 3\n",
    "    else:                                      return 4"
   ]
  },
  {
   "cell_type": "code",
   "execution_count": 18,
   "metadata": {
    "collapsed": true
   },
   "outputs": [],
   "source": [
    "# Determinamos la estacion del año\n",
    "# 1: Primavera\n",
    "# 2: Verano\n",
    "# 3: Otoño\n",
    "# 4: Invierno\n",
    "\n",
    "weather['season'] = weather['date'].map(estacion)"
   ]
  },
  {
   "cell_type": "code",
   "execution_count": 19,
   "metadata": {
    "collapsed": true
   },
   "outputs": [],
   "source": [
    "# Funcion para convertir eventos\n",
    "def events(event):\n",
    "    eventos = ['fog', 'rain', 'fog-rain', 'rain-thunderstorm', 'nan']\n",
    "    for i in range(len(eventos)):\n",
    "        if event.lower() == eventos[i]: return i"
   ]
  },
  {
   "cell_type": "code",
   "execution_count": 20,
   "metadata": {
    "collapsed": true
   },
   "outputs": [],
   "source": [
    "# Convertimos los eventos del dia a valores numericos\n",
    "# 0: Fog\n",
    "# 1: Rain\n",
    "# 2: Fog-Rain\n",
    "# 3: Rain-Thunderstorm\n",
    "# 4: No Event\n",
    "\n",
    "weather['event'] = weather['event'].fillna(\"nan\")\n",
    "weather['event'] = weather['event'].map(events)"
   ]
  },
  {
   "cell_type": "code",
   "execution_count": 21,
   "metadata": {
    "collapsed": true
   },
   "outputs": [],
   "source": [
    "# Convertimos las precipitaciones\n",
    "weather['precipitation'] = weather['precipitation'].map(lambda x: 0.0 if x == 'T' else float(x))"
   ]
  },
  {
   "cell_type": "code",
   "execution_count": 22,
   "metadata": {
    "collapsed": true
   },
   "outputs": [],
   "source": [
    "# Juntamos los datos de train y weather\n",
    "datos = pd.merge(train, weather, how='right', on='date')"
   ]
  },
  {
   "cell_type": "code",
   "execution_count": 23,
   "metadata": {
    "collapsed": true
   },
   "outputs": [],
   "source": [
    "# Quitamos la columna 'date' que fue necesaria solamente para juntar con 'weather'\n",
    "datos.drop('date', axis=1, inplace=True)"
   ]
  },
  {
   "cell_type": "markdown",
   "metadata": {},
   "source": [
    "##### Distancias"
   ]
  },
  {
   "cell_type": "code",
   "execution_count": 24,
   "metadata": {
    "collapsed": true
   },
   "outputs": [],
   "source": [
    "stations = pd.read_csv('./data/station.csv', low_memory=False)\n",
    "stations.drop(['name','installation_date'], axis=1, inplace=True)"
   ]
  },
  {
   "cell_type": "code",
   "execution_count": 25,
   "metadata": {
    "collapsed": true
   },
   "outputs": [],
   "source": [
    "# Funcion para calcular distancia euclidea sobre la proyecicon de coordenadas geograficas en un plano\n",
    "from math import cos,sqrt,pi\n",
    "def dist(a, b):\n",
    "    ''' https://en.wikipedia.org/wiki/Geographical_distance#Spherical_Earth_projected_to_a_plane '''\n",
    "    p = pi / 180\n",
    "    x = (a[0] * p, a[1] * p)\n",
    "    y = (b[0] * p, b[1] * p)\n",
    "    f_m = (x[0] + y[0]) / 2\n",
    "    d_lat = x[0] - y[0]\n",
    "    d_lon = x[1] - y[1]\n",
    "    return sqrt((d_lat)**2 + (cos(f_m) * d_lon)**2)*1000"
   ]
  },
  {
   "cell_type": "code",
   "execution_count": 26,
   "metadata": {
    "collapsed": true
   },
   "outputs": [],
   "source": [
    "# Creamos un dataframe de distancias\n",
    "distancias = pd.DataFrame(columns=('ss_id','es_id','dist'))\n",
    "\n",
    "for i in stations.values:\n",
    "    for j in stations.values:\n",
    "        distancias = distancias.append(pd.DataFrame({'ss_id':[i[0]],\n",
    "                                                     'es_id':[j[0]],\n",
    "                                                     'dist':[dist((i[1],i[2]),(j[1],j[2]))]}))"
   ]
  },
  {
   "cell_type": "code",
   "execution_count": 27,
   "metadata": {
    "collapsed": true
   },
   "outputs": [],
   "source": [
    "# Juntamos las distancias y los viajes\n",
    "datos = datos.merge(distancias, how='left', on=['ss_id','es_id'])"
   ]
  },
  {
   "cell_type": "code",
   "execution_count": 28,
   "metadata": {
    "collapsed": true
   },
   "outputs": [],
   "source": [
    "# Convertimos los id de estaciones a numeros enteros\n",
    "# (habia problemas mas adelante sin no hacemos esto. no se por que)\n",
    "datos['ss_id'] = datos['ss_id'].values.astype(np.int64)\n",
    "datos['es_id'] = datos['es_id'].values.astype(np.int64)"
   ]
  },
  {
   "cell_type": "code",
   "execution_count": 29,
   "metadata": {
    "scrolled": false
   },
   "outputs": [
    {
     "data": {
      "text/html": [
       "<div>\n",
       "<style>\n",
       "    .dataframe thead tr:only-child th {\n",
       "        text-align: right;\n",
       "    }\n",
       "\n",
       "    .dataframe thead th {\n",
       "        text-align: left;\n",
       "    }\n",
       "\n",
       "    .dataframe tbody tr th {\n",
       "        vertical-align: top;\n",
       "    }\n",
       "</style>\n",
       "<table border=\"1\" class=\"dataframe\">\n",
       "  <thead>\n",
       "    <tr style=\"text-align: right;\">\n",
       "      <th></th>\n",
       "      <th>duration</th>\n",
       "      <th>s_date</th>\n",
       "      <th>ss_id</th>\n",
       "      <th>e_date</th>\n",
       "      <th>es_id</th>\n",
       "      <th>b_id</th>\n",
       "      <th>sub_type</th>\n",
       "      <th>s_day</th>\n",
       "      <th>e_day</th>\n",
       "      <th>mean_temp_f</th>\n",
       "      <th>...</th>\n",
       "      <th>mean_hum</th>\n",
       "      <th>mean_press</th>\n",
       "      <th>mean_vis</th>\n",
       "      <th>mean_wind</th>\n",
       "      <th>precipitation</th>\n",
       "      <th>cloud_cover</th>\n",
       "      <th>event</th>\n",
       "      <th>wind_dir</th>\n",
       "      <th>season</th>\n",
       "      <th>dist</th>\n",
       "    </tr>\n",
       "  </thead>\n",
       "  <tbody>\n",
       "    <tr>\n",
       "      <th>2048060</th>\n",
       "      <td>502</td>\n",
       "      <td>1425921000</td>\n",
       "      <td>45</td>\n",
       "      <td>1425921480</td>\n",
       "      <td>70</td>\n",
       "      <td>325</td>\n",
       "      <td>0</td>\n",
       "      <td>0</td>\n",
       "      <td>0</td>\n",
       "      <td>57.0</td>\n",
       "      <td>...</td>\n",
       "      <td>82.0</td>\n",
       "      <td>30.01</td>\n",
       "      <td>9.0</td>\n",
       "      <td>6.0</td>\n",
       "      <td>0.0</td>\n",
       "      <td>5.0</td>\n",
       "      <td>4</td>\n",
       "      <td>268.0</td>\n",
       "      <td>1</td>\n",
       "      <td>0.325086</td>\n",
       "    </tr>\n",
       "    <tr>\n",
       "      <th>1694090</th>\n",
       "      <td>261</td>\n",
       "      <td>1423730940</td>\n",
       "      <td>74</td>\n",
       "      <td>1423731180</td>\n",
       "      <td>49</td>\n",
       "      <td>613</td>\n",
       "      <td>0</td>\n",
       "      <td>3</td>\n",
       "      <td>3</td>\n",
       "      <td>58.0</td>\n",
       "      <td>...</td>\n",
       "      <td>68.0</td>\n",
       "      <td>30.16</td>\n",
       "      <td>10.0</td>\n",
       "      <td>2.0</td>\n",
       "      <td>0.0</td>\n",
       "      <td>3.0</td>\n",
       "      <td>4</td>\n",
       "      <td>281.0</td>\n",
       "      <td>4</td>\n",
       "      <td>0.085013</td>\n",
       "    </tr>\n",
       "    <tr>\n",
       "      <th>1288014</th>\n",
       "      <td>434</td>\n",
       "      <td>1425023940</td>\n",
       "      <td>59</td>\n",
       "      <td>1425024360</td>\n",
       "      <td>77</td>\n",
       "      <td>624</td>\n",
       "      <td>0</td>\n",
       "      <td>4</td>\n",
       "      <td>4</td>\n",
       "      <td>56.0</td>\n",
       "      <td>...</td>\n",
       "      <td>74.0</td>\n",
       "      <td>29.87</td>\n",
       "      <td>10.0</td>\n",
       "      <td>13.0</td>\n",
       "      <td>0.0</td>\n",
       "      <td>3.0</td>\n",
       "      <td>4</td>\n",
       "      <td>288.0</td>\n",
       "      <td>4</td>\n",
       "      <td>0.284917</td>\n",
       "    </tr>\n",
       "  </tbody>\n",
       "</table>\n",
       "<p>3 rows × 21 columns</p>\n",
       "</div>"
      ],
      "text/plain": [
       "         duration      s_date  ss_id      e_date  es_id  b_id  sub_type  \\\n",
       "2048060       502  1425921000     45  1425921480     70   325         0   \n",
       "1694090       261  1423730940     74  1423731180     49   613         0   \n",
       "1288014       434  1425023940     59  1425024360     77   624         0   \n",
       "\n",
       "         s_day  e_day  mean_temp_f    ...     mean_hum  mean_press  mean_vis  \\\n",
       "2048060      0      0         57.0    ...         82.0       30.01       9.0   \n",
       "1694090      3      3         58.0    ...         68.0       30.16      10.0   \n",
       "1288014      4      4         56.0    ...         74.0       29.87      10.0   \n",
       "\n",
       "         mean_wind  precipitation  cloud_cover  event  wind_dir  season  \\\n",
       "2048060        6.0            0.0          5.0      4     268.0       1   \n",
       "1694090        2.0            0.0          3.0      4     281.0       4   \n",
       "1288014       13.0            0.0          3.0      4     288.0       4   \n",
       "\n",
       "             dist  \n",
       "2048060  0.325086  \n",
       "1694090  0.085013  \n",
       "1288014  0.284917  \n",
       "\n",
       "[3 rows x 21 columns]"
      ]
     },
     "execution_count": 29,
     "metadata": {},
     "output_type": "execute_result"
    }
   ],
   "source": [
    "datos.sample(3)"
   ]
  },
  {
   "cell_type": "code",
   "execution_count": 30,
   "metadata": {},
   "outputs": [
    {
     "name": "stdout",
     "output_type": "stream",
     "text": [
      "(2749805, 21)\n",
      "(2704934, 21)\n"
     ]
    }
   ],
   "source": [
    "# (Aca saco los NaN. Esta parte se puede mejorar(? )\n",
    "\n",
    "print datos.shape\n",
    "\n",
    "# Quitamos los NaN\n",
    "datos.dropna(inplace=True)\n",
    "print datos.shape"
   ]
  },
  {
   "cell_type": "markdown",
   "metadata": {},
   "source": [
    "#### Por ahora vemos los datos reducidos porque son demasiados"
   ]
  },
  {
   "cell_type": "code",
   "execution_count": 31,
   "metadata": {
    "collapsed": true
   },
   "outputs": [],
   "source": [
    "# Selecionamos 10.000 elementos al azar. Solo para hacer visualizaciones rapidas\n",
    "df = datos.sample(10000).dropna(thresh=2)"
   ]
  },
  {
   "cell_type": "code",
   "execution_count": 32,
   "metadata": {
    "collapsed": true
   },
   "outputs": [],
   "source": [
    "# Realizamos algunos plots\n",
    "def plots_sobre_datos():\n",
    "    plots = ['s_date', 'ss_id', 'es_id', 'b_id', 's_day', 'e_day', 'mean_temp_f', 'mean_dew_f', 'mean_hum', 'mean_press', 'mean_vis', 'mean_wind', 'precipitation', 'cloud_cover', 'event', 'season', 'dist']\n",
    "    fig = plt.figure(figsize=(50, 50))\n",
    "\n",
    "    for i in range(len(plots)-1):\n",
    "        ax = fig.add_subplot(6, 3, i+1)\n",
    "        plt.title(plots[i].replace('_', ' ').title());\n",
    "        ax.scatter(df[plots[i]], df['duration']);\n",
    "    plt.show()"
   ]
  },
  {
   "cell_type": "markdown",
   "metadata": {},
   "source": [
    "Con más datos incluidos, podemos hacer una reducción de dimensiones y visualizar el set de datos.\n",
    "\n",
    "##### SVD"
   ]
  },
  {
   "cell_type": "code",
   "execution_count": 33,
   "metadata": {
    "collapsed": true
   },
   "outputs": [],
   "source": [
    "def sklearn_svd():\n",
    "    from sklearn.decomposition import TruncatedSVD\n",
    "\n",
    "    df_train = train.drop('date', axis=1)\n",
    "\n",
    "    svd = TruncatedSVD(n_components=2, n_iter=7)\n",
    "    X = svd.fit_transform(df.values)\n",
    "    Y = svd.fit_transform(df_train.values)\n",
    "\n",
    "    fig = plt.figure(figsize=(50, 10));\n",
    "    ax = fig.add_subplot(1, 2, 1);\n",
    "    plt.title('Con datos de clima y estaciones')\n",
    "    ax.scatter(X[:, 0], X[:, 1]);\n",
    "\n",
    "    ax = fig.add_subplot(1, 2, 2);\n",
    "    plt.title('Sin datos de clima y estaciones')\n",
    "    ax.scatter(Y[:, 0], Y[:, 1]);\n",
    "    plt.show()"
   ]
  },
  {
   "cell_type": "markdown",
   "metadata": {},
   "source": [
    "Se puede observar una especie de relación lineal.\n",
    "\n",
    "(Pero a mi me parece muy raro. Igualmente, la aproximacion de la SVD a 2 dimensiones reduce lo mejor posible los datos originales (a 2 dimensiones, por el teorema de Eckert-Young). Por lo tanto, esta es la mejor representacion en 2D de los datos (segun la *norma de Frobenius*)) [p.315 apunte]"
   ]
  },
  {
   "cell_type": "markdown",
   "metadata": {},
   "source": [
    "##### PCA\n",
    "\n",
    "(Primero habria que hacer la matriz de distancias entre los datos, y  luego reducir con PCA !!!)\n",
    "\n",
    "(Y tambien falta comparar PCA \"con y sin\" los datos agregados)"
   ]
  },
  {
   "cell_type": "code",
   "execution_count": 34,
   "metadata": {
    "collapsed": true
   },
   "outputs": [],
   "source": [
    "def sklearn_pca():\n",
    "    from sklearn.decomposition import PCA\n",
    "    pca = PCA(n_components=2)\n",
    "    X = pca.fit_transform(df.values)\n",
    "    plt.scatter(X[:, 0], X[:, 1]);"
   ]
  },
  {
   "cell_type": "markdown",
   "metadata": {},
   "source": [
    "---\n",
    "#### Modelo\n",
    "\n",
    "Finalmente, luego de realizar las consideraciones, en esta sección armamos el modelo que resuelva el problema de predicción.\n",
    "\n",
    "*plan*"
   ]
  },
  {
   "cell_type": "markdown",
   "metadata": {},
   "source": [
    "---\n",
    "#### Ejecución del modelo"
   ]
  },
  {
   "cell_type": "markdown",
   "metadata": {},
   "source": [
    "*Pruebas*"
   ]
  },
  {
   "cell_type": "markdown",
   "metadata": {},
   "source": [
    "linear model de sklearn (copy-paste)"
   ]
  },
  {
   "cell_type": "code",
   "execution_count": 35,
   "metadata": {
    "collapsed": true
   },
   "outputs": [],
   "source": [
    "data = datos\n",
    "num = int(data.shape[0]*.2)"
   ]
  },
  {
   "cell_type": "code",
   "execution_count": 36,
   "metadata": {
    "collapsed": true
   },
   "outputs": [],
   "source": [
    "def sk_learn_regresion_lineal():\n",
    "    # Lo dejo como funcion para poder correr lo de los datos sin tener que ejecutar esta parte\n",
    "    from sklearn import linear_model\n",
    "\n",
    "    x = data.dist.values\n",
    "    x = x.reshape(-1, 1)\n",
    "    y = data.duration.values\n",
    "\n",
    "    x_train = x[:-num]\n",
    "    x_test = x[-num:]\n",
    "\n",
    "    y_train = y[:-num]\n",
    "    y_test = y[-num:]\n",
    "\n",
    "    regr = linear_model.LinearRegression()\n",
    "    regr.fit(x_train, y_train)\n",
    "\n",
    "    print 'Coefficients:', regr.coef_\n",
    "    print \"Mean squared error: %.2f\" % np.mean((regr.predict(x_test) - y_test) ** 2)\n",
    "    print 'Variance score: %.2f' % regr.score(x_test, y_test)\n",
    "\n",
    "    plt.figure(figsize=(20, 10))\n",
    "\n",
    "    plt.scatter(x_test, y_test,  color='black')\n",
    "    plt.plot(x_test, regr.predict(x_test), color='blue', linewidth=3)\n",
    "\n",
    "    plt.show()\n",
    "\n",
    "# Si quieren ver el grafico, descomenten la siguiente linea\n",
    "#sk_learn_regresion_lineal()"
   ]
  },
  {
   "cell_type": "markdown",
   "metadata": {},
   "source": [
    "Segun los comentarios en el ejemplo de sklearn, si *Variance score* es 1, la prediccion es perfecta. Acá es 0 :C"
   ]
  },
  {
   "cell_type": "markdown",
   "metadata": {},
   "source": [
    "Naive Bayes\n",
    "http://scikit-learn.org/stable/auto_examples/linear_model/plot_bayesian_ridge.html"
   ]
  },
  {
   "cell_type": "code",
   "execution_count": 37,
   "metadata": {
    "collapsed": true
   },
   "outputs": [],
   "source": [
    "from scipy import stats\n",
    "from sklearn.linear_model import BayesianRidge, LinearRegression"
   ]
  },
  {
   "cell_type": "code",
   "execution_count": 38,
   "metadata": {
    "collapsed": true
   },
   "outputs": [],
   "source": [
    "data = datos"
   ]
  },
  {
   "cell_type": "code",
   "execution_count": 39,
   "metadata": {},
   "outputs": [
    {
     "data": {
      "text/plain": [
       "(2704934, 2)"
      ]
     },
     "execution_count": 39,
     "metadata": {},
     "output_type": "execute_result"
    }
   ],
   "source": [
    "a = data.dist.values\n",
    "b = data.duration.values \n",
    "X = np.column_stack((a,b))\n",
    "X.shape"
   ]
  },
  {
   "cell_type": "code",
   "execution_count": 40,
   "metadata": {
    "collapsed": true
   },
   "outputs": [],
   "source": [
    "np.random.seed(0)\n",
    "n_samples, n_features = X.shape[0], X.shape[1]\n",
    "# Create weights with a precision lambda_ of 4.\n",
    "lambda_ = 4.\n",
    "w = np.zeros(n_features)\n",
    "# Only keep 10 weights of interest\n",
    "relevant_features = np.random.randint(0, n_features, 10)\n",
    "for i in relevant_features:\n",
    "    w[i] = stats.norm.rvs(loc=0, scale=1. / np.sqrt(lambda_))\n",
    "# Create noise with a precision alpha of 50.\n",
    "alpha_ = 50.\n",
    "noise = stats.norm.rvs(loc=0, scale=1. / np.sqrt(alpha_), size=n_samples)\n",
    "# Create the target\n",
    "y = np.dot(X, w) + noise"
   ]
  },
  {
   "cell_type": "code",
   "execution_count": 41,
   "metadata": {},
   "outputs": [
    {
     "data": {
      "text/plain": [
       "LinearRegression(copy_X=True, fit_intercept=True, n_jobs=1, normalize=False)"
      ]
     },
     "execution_count": 41,
     "metadata": {},
     "output_type": "execute_result"
    }
   ],
   "source": [
    "clf = BayesianRidge(compute_score=True)\n",
    "clf.fit(X, y)\n",
    "\n",
    "ols = LinearRegression()\n",
    "ols.fit(X, y)"
   ]
  },
  {
   "cell_type": "code",
   "execution_count": 42,
   "metadata": {},
   "outputs": [
    {
     "name": "stderr",
     "output_type": "stream",
     "text": [
      "/home/mk/p2env/lib/python2.7/site-packages/matplotlib/axes/_base.py:3193: UserWarning: Attempting to set identical bottom==top results\n",
      "in singular transformations; automatically expanding.\n",
      "bottom=1.0, top=1.0\n",
      "  'bottom=%s, top=%s') % (bottom, top))\n"
     ]
    },
    {
     "data": {
      "image/png": "[encoded data removed]",
      "text/plain": [
       "<matplotlib.figure.Figure at 0x7fd211124590>"
      ]
     },
     "metadata": {},
     "output_type": "display_data"
    },
    {
     "data": {
      "image/png": "[encoded data removed]",
      "text/plain": [
       "<matplotlib.figure.Figure at 0x7fd21b13b190>"
      ]
     },
     "metadata": {},
     "output_type": "display_data"
    },
    {
     "data": {
      "image/png": "[encoded data removed]",
      "text/plain": [
       "<matplotlib.figure.Figure at 0x7fd21d692b50>"
      ]
     },
     "metadata": {},
     "output_type": "display_data"
    }
   ],
   "source": [
    "lw = 2\n",
    "plt.figure(figsize=(6, 5))\n",
    "plt.title(\"Weights of the model\")\n",
    "plt.plot(clf.coef_, color='lightgreen', linewidth=lw,\n",
    "         label=\"Bayesian Ridge estimate\")\n",
    "plt.plot(w, color='gold', linewidth=lw, label=\"Ground truth\")\n",
    "plt.plot(ols.coef_, color='navy', linestyle='--', label=\"OLS estimate\")\n",
    "plt.xlabel(\"Features\")\n",
    "plt.ylabel(\"Values of the weights\")\n",
    "plt.legend(loc=\"best\", prop=dict(size=12))\n",
    "\n",
    "plt.figure(figsize=(6, 5))\n",
    "plt.title(\"Histogram of the weights\")\n",
    "plt.hist(clf.coef_, bins=n_features, color='gold', log=True)\n",
    "plt.scatter(clf.coef_[relevant_features], 5 * np.ones(len(relevant_features)),\n",
    "            color='navy', label=\"Relevant features\")\n",
    "plt.ylabel(\"Features\")\n",
    "plt.xlabel(\"Values of the weights\")\n",
    "plt.legend(loc=\"upper left\")\n",
    "\n",
    "plt.figure(figsize=(6, 5))\n",
    "plt.title(\"Marginal log-likelihood\")\n",
    "plt.plot(clf.scores_, color='navy', linewidth=lw)\n",
    "plt.ylabel(\"Score\")\n",
    "plt.xlabel(\"Iterations\")\n",
    "plt.show()"
   ]
  },
  {
   "cell_type": "code",
   "execution_count": null,
   "metadata": {
    "collapsed": true
   },
   "outputs": [],
   "source": []
  },
  {
   "cell_type": "code",
   "execution_count": 43,
   "metadata": {},
   "outputs": [
    {
     "name": "stdout",
     "output_type": "stream",
     "text": [
      "40.2160310745\n"
     ]
    }
   ],
   "source": [
    "# Esto es solo para controlar los tiempos\n",
    "end = time.time()\n",
    "print end-start"
   ]
  },
  {
   "cell_type": "markdown",
   "metadata": {},
   "source": [
    "(Lo de arriba es regresion lineal (entre \"distancias entre estaciones\" y \"duracion\"). Se puede continuar haciendo regresion lineal __multivariable__ (cada feature contra duracion), pero nose si aplicar regresion __lineal__ esta bien (puede ser cuadratica, etc), aunque viendo los plots, mas o menos los datos se comportan de manera lineal (visto en la __SVD__). Despues tambien nos podemos fijar con otros algoritmos de regresion. No me queda muy en claro, como evaluar los algoritmos. Tambien faltaria dividir el set de datos en: \"entrenamiento\" y \"validacion\")\n",
    "\n",
    "(el set de \"test\", es para la \"entrega\" final. Entonces por eso hay que dividir el set de \"train\". La proporcion entre tamaños (del set de entrenamiento y el de validacion) se calibra despues. Pero debe hacerse para \"penalizar\" a los algoritmos)"
   ]
  },
  {
   "cell_type": "code",
   "execution_count": null,
   "metadata": {
    "collapsed": true
   },
   "outputs": [],
   "source": [
    "\n",
    "\n"
   ]
  },
  {
   "cell_type": "code",
   "execution_count": null,
   "metadata": {
    "collapsed": true
   },
   "outputs": [],
   "source": []
  },
  {
   "cell_type": "code",
   "execution_count": null,
   "metadata": {
    "collapsed": true
   },
   "outputs": [],
   "source": []
  },
  {
   "cell_type": "code",
   "execution_count": null,
   "metadata": {
    "collapsed": true
   },
   "outputs": [],
   "source": []
  },
  {
   "cell_type": "markdown",
   "metadata": {
    "collapsed": true
   },
   "source": [
    "#### Regresion lineal a las piñas\n",
    "\n",
    "(faltan tildes. Esta redaccion es para nosotros, no para la entrega)\n",
    "\n",
    "Entendiendo poco de las implementaciones hechas en sk-learn, tomemos un camino diferente. Implementemos nosotros mismos un algoritmo de regresion para entender mejor como funciona. \n",
    "\n",
    "Investigando un poco en internet, se nota que aparece mucho las palabras *Gradient Descent*. Segun tengo entendido, este algoritmo, primero realiza una estimacion de como se ajustan los datos, y luego, en iteraciones siguientes de a poco re-ajusta su estimacion, minimizando asi el error entre, valga la redundancia, su __estimacion__ y los __datos__.\n",
    "\n",
    "Veamos a que nos referimos con la __estimacion__. Por ejemplo, dados datos en 2 dimensiones, se quiere poder determinar una funcion que lleve datos de \"una dimension\" a la otra. Esta funcion puede ser lineal, cuadratica, cubica, exponencial, etc. Lo imporante en entender bien a qué es a lo que se quiere llegar, predecir/estimar. (Nota: la forma de la funcion, claramente depende de cómo se distribuyen los datos. Hay funciones que \"ajustan\" mejor que otras)\n",
    "\n",
    "Hay un tema bastante importante del cual pareciera que se lo mencionara sin mucha importancia. Esto es, __El Error__. Cómo podemos determinar que tan bien ajusta nuestra funcion a la prediccion de los datos? Aqui es donde entra este metodo para calificar las predicciones. [wikipedia](https://en.wikipedia.org/wiki/Errors_and_residuals)\n",
    "En el TP se pide que se utilize el [ECM](https://en.wikipedia.org/wiki/Mean_squared_error).\n",
    "\n",
    "Ahora que sabemos como calificar a las predicciones del algoritmo vemos al algoritmo en sí. (Un poco raro el orden)\n",
    "\n",
    "Supongamos que tenemos datos en 2D y que se comportan de manera lineal. Esto quiere decir que podemos modelar los datos con una funcion lineal. La formula de una recta es:\n",
    "\n",
    "> f(x) = m * x + b\n",
    "\n",
    "Aquí, \"x\" seran los datos de \"una dimension\", y f(x) seran las predicciones hechas por la funcion. Lo que queda por averiguar son entonces los parametros \"m\" y \"b\", la pendiente y ordenada al origen respectivamente.\n",
    "\n",
    "El procedimiento que se discutió al principio consistia en que, se iteraba sobre los datos, dándoselos a la función produciendo una prediccion y luego la calificamos. Despues de eso, segun la calificacion, modificamos los parametros \"m\" y \"b\" con esperanzas de que las proximas predicciones den un ECM mas bajo (ie. que la diferencia entre el valor real y la prediccion sea cada vez menor)\n",
    "\n",
    "---\n",
    "\n",
    "##### Manos a la obra\n",
    "\n",
    "Primero tenemos que hacer las siguientes consideraciones:\n",
    "\n",
    "> Cómo iterar sobre los datos? \n",
    "\n",
    "> Cómo calificar a la prediccion? Esto ya lo determinamos. Debemos implementar una funcion ECM.\n",
    "\n",
    "> Cómo modificar a los parámetros de la funcion? También hay que determinar cómo se ven afectados por el ECM. (__o__)\n",
    "\n",
    "> Cómo van a interactuar los datos que tenemos con la funcion? (__oo__)\n",
    "\n",
    "> (__o__) A esto, creo que se lo llama *learning rate*.\n",
    "\n",
    "> (__oo__) Acá, como debemos predecir duracion de un viaje, f(x) debe ser la predicción de duracion. Ademas, el dato x, no debe ser el resto de los datos que tenemos. Es decir, __NO__ son esos vectores multidimensionales que quedaron fuera, sino que es solo __UN__ dato, aunque, este proceso lo podemos repetir para cada dimension/feature. (espero que se entienda :P )\n",
    "\n",
    "Nota: vamos a aplicar un modelo de prediccion lineal, porque con los plots individuales, se vio que, tenia pinta de ser lineal, ponele. Además, la SVD, y esto sí tiene que estar bien, reducia los datos de forma parecida (a una linea). Esto me lleva a decir que un modelo lineal no está tan mal. De todas formas, podemos luego intentar otros modelos.\n",
    "\n",
    "Nota de la Nota: los plots de arriba son una parte de todos los datos, asi que puede que yo halla flasheado cualquiera!!\n",
    "\n",
    "Con respecto las iteraciones, vamos a ir agarrando samples del set de datos (o sea un vector de tamaño k, menor al set de datos entero), se lo aplicamos a la funcion, que nos devuelve otro vector, y luego calculamos el ECM para modificar a la siguiente iteracion.\n",
    "\n",
    "> __x__   ->   f(__x__) = __ _y__ (la prediccion)\n",
    "\n",
    "> ECM(__ _y__, __y__) -> (modificamos m y b)\n"
   ]
  },
  {
   "cell_type": "code",
   "execution_count": 44,
   "metadata": {
    "collapsed": true
   },
   "outputs": [],
   "source": [
    "# Definimos la funcion de prediccion\n",
    "def f(x, m, b):\n",
    "    return x*m+b\n",
    "\n",
    "# Definimos el ECM que es la media de los cuadrados de los errores\n",
    "def ecm(_y, y):\n",
    "    '''_y: prediccion\n",
    "        y: valor real de la duracion\n",
    "        g: guess\n",
    "        r: real value\n",
    "    '''\n",
    "    return sum((g-r)**2 for g,r in zip(_y, y))"
   ]
  },
  {
   "cell_type": "code",
   "execution_count": 45,
   "metadata": {
    "collapsed": true
   },
   "outputs": [],
   "source": [
    "# Esto lo hice porque la mayoria de las implementaciones en sklearn lo hace esta forma\n",
    "#No me salio bien. Abajo esta mas claro\n",
    "\n",
    "#NUM = .2\n",
    "#Y_train = df.duration.values[:-int(df.shape[0]*NUM)]\n",
    "#Y_test = df.duration.values[-int(df.shape[0]*NUM):]\n",
    "#X_train = df.dist.values[:-int(df.shape[0]*NUM)]\n",
    "#X_test = df.dist.values[-int(df.shape[0]*NUM):]"
   ]
  },
  {
   "cell_type": "code",
   "execution_count": 46,
   "metadata": {
    "collapsed": true
   },
   "outputs": [],
   "source": [
    "# Datos de entrenamiento\n",
    "#La 1er columna son las \"x\", y la 2da columna son las \"y\"\n",
    "#Este set de datos se puede partir en entrenamiento y validacion\n",
    "W = df[['dist','duration']].values"
   ]
  },
  {
   "cell_type": "code",
   "execution_count": 47,
   "metadata": {
    "collapsed": true
   },
   "outputs": [],
   "source": [
    "from random import random, randint"
   ]
  },
  {
   "cell_type": "code",
   "execution_count": 48,
   "metadata": {
    "collapsed": true
   },
   "outputs": [],
   "source": [
    "def a():\n",
    "    if randint(0,1) == 0: return .3\n",
    "    return random()"
   ]
  },
  {
   "cell_type": "code",
   "execution_count": 86,
   "metadata": {},
   "outputs": [],
   "source": [
    "b=0\n",
    "m=1\n",
    "\n",
    "# k: es solamente un valor para no entrenar con todos los datos de W\n",
    "# recuerden que los datos que agarramos son 10.000 de los datos originales.\n",
    "# solo para que no sea tan largo.\n",
    "\n",
    "sign = [-1,1]\n",
    "data = []\n",
    "\n",
    "for o in range(1):\n",
    "    k=0\n",
    "    data.append([])\n",
    "    error_act = 0\n",
    "    error_prev = 0\n",
    "    guesses = []\n",
    "    reals = []\n",
    "    m=1\n",
    "    for x,y in W:\n",
    "        k+=1\n",
    "        _y = f(x, m, b)\n",
    "        guesses.append(_y)\n",
    "        reals.append(y)\n",
    "        error_act = ecm(guesses, reals)\n",
    "        if error_prev < error_act: \n",
    "            m *= 1/random()\n",
    "        else: \n",
    "            m *= 13\n",
    "        data[o].append(error_act)\n",
    "        error_prev = error_act\n",
    "        if k > 200: break"
   ]
  },
  {
   "cell_type": "code",
   "execution_count": 87,
   "metadata": {},
   "outputs": [
    {
     "data": {
      "image/png": "[encoded data removed]",
      "text/plain": [
       "<matplotlib.figure.Figure at 0x7fd214b8a8d0>"
      ]
     },
     "metadata": {},
     "output_type": "display_data"
    }
   ],
   "source": [
    "plt.figure(figsize=(20, 10));\n",
    "for i in range(len(data)):\n",
    "    plt.plot(data[i]);"
   ]
  }
 ],
 "metadata": {
  "kernelspec": {
   "display_name": "Python 2",
   "language": "python",
   "name": "python2"
  },
  "language_info": {
   "codemirror_mode": {
    "name": "ipython",
    "version": 2
   },
   "file_extension": ".py",
   "mimetype": "text/x-python",
   "name": "python",
   "nbconvert_exporter": "python",
   "pygments_lexer": "ipython2",
   "version": "2.7.13"
  }
 },
 "nbformat": 4,
 "nbformat_minor": 2
}
