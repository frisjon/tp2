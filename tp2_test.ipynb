{
 "cells": [
  {
   "cell_type": "code",
   "execution_count": 1,
   "metadata": {
    "collapsed": true
   },
   "outputs": [],
   "source": [
    "cities = {'San Francisco':1,'San Jose':2,'Mountain View':3,'Palo Alto':4,'Redwood City':5}\n",
    "def ciudades(ciudad):\n",
    "    return cities[ciudad]\n",
    "\n",
    "# Funcion para convertir el tipo de subscripcion\n",
    "def sub_type(sub):\n",
    "    if sub == 'Customer': return 1\n",
    "    return 0\n",
    "\n",
    "events = {'Normal': 0 , 'Fog': 1 , 'Rain': 2 , 'Fog-Rain': 3 , 'Rain-Thunderstorm': 4}\n",
    "def eventos(event):\n",
    "    return events[event]"
   ]
  },
  {
   "cell_type": "code",
   "execution_count": 2,
   "metadata": {
    "collapsed": true
   },
   "outputs": [],
   "source": [
    "import time\n",
    "start = time.time()"
   ]
  },
  {
   "cell_type": "code",
   "execution_count": 3,
   "metadata": {
    "collapsed": true
   },
   "outputs": [],
   "source": [
    "import pandas as pd\n",
    "import numpy as np\n",
    "\n",
    "import matplotlib.pyplot as plt\n",
    "%matplotlib inline"
   ]
  },
  {
   "cell_type": "code",
   "execution_count": 4,
   "metadata": {
    "collapsed": true
   },
   "outputs": [],
   "source": [
    "train = pd.read_csv('./data/train.csv', low_memory=False)"
   ]
  },
  {
   "cell_type": "code",
   "execution_count": 5,
   "metadata": {
    "collapsed": true
   },
   "outputs": [],
   "source": [
    "nombres = {'subscription_type':  'sub_type',\n",
    "           'start_station_name': 'ss_name',\n",
    "           'end_station_name':   'es_name',\n",
    "           'start_station_id':   'sid',\n",
    "           'end_station_id':     'es_id',\n",
    "           'start_date':         's_date',\n",
    "           'end_date':           'e_date',\n",
    "           'zip_code':           'z_code',\n",
    "           'bike_id':            'b_id'}\n",
    "\n",
    "train.rename(columns=nombres, inplace=True)\n",
    "\n",
    "train.drop(['ss_name', 'es_name', 'z_code', 'id','e_date','es_id'], axis=1, inplace=True)\n",
    "train.rename(columns={'sid':'id'}, inplace=True)\n",
    "\n",
    "train['s_date'] = pd.to_datetime(train['s_date'], format='%m/%d/%Y %H:%M')\n",
    "\n",
    "train['year'] = train['s_date'].map(lambda x:x.year)\n",
    "train['month'] = train['s_date'].map(lambda x:x.month)\n",
    "train['day'] = train['s_date'].map(lambda x:x.day)\n",
    "train['weekday'] = train['s_date'].map(lambda x: x.weekday())\n",
    "train['hour'] = train['s_date'].map(lambda x:x.hour)\n",
    "train['minute'] = train['s_date'].map(lambda x:x.minute)\n",
    "\n",
    "train['date'] = pd.DatetimeIndex(train['s_date']).normalize()\n",
    "\n",
    "train.sub_type = train.sub_type.map(sub_type)"
   ]
  },
  {
   "cell_type": "code",
   "execution_count": 6,
   "metadata": {
    "collapsed": true
   },
   "outputs": [],
   "source": [
    "train = train[train.duration <= 21600]"
   ]
  },
  {
   "cell_type": "code",
   "execution_count": 7,
   "metadata": {
    "collapsed": true,
    "scrolled": true
   },
   "outputs": [],
   "source": [
    "stations = pd.read_csv('./data/station.csv', low_memory=False)"
   ]
  },
  {
   "cell_type": "code",
   "execution_count": 8,
   "metadata": {
    "collapsed": true
   },
   "outputs": [],
   "source": [
    "stations.drop(['name','lat','long','installation_date'], axis=1, inplace=True)\n",
    "stations['city'] = stations['city'].map(lambda x: ciudades(x))"
   ]
  },
  {
   "cell_type": "code",
   "execution_count": 9,
   "metadata": {
    "collapsed": true,
    "scrolled": true
   },
   "outputs": [],
   "source": [
    "weather = pd.read_csv('./data/weather.csv', low_memory=False)"
   ]
  },
  {
   "cell_type": "code",
   "execution_count": 10,
   "metadata": {},
   "outputs": [],
   "source": [
    "rename = {'max_temperature_f': 'max_temp', \n",
    "'mean_temperature_f': 'mean_temp', \n",
    "'min_temperature_f': 'min_temp', \n",
    "'max_dew_point_f': 'max_dew', \n",
    "'mean_dew_point_f': 'mean_dew', \n",
    "'min_dew_point_f': 'min_dew', \n",
    "'max_humidity': 'max_hum', \n",
    "'mean_humidity': 'mean_hum', \n",
    "'min_humidity': 'min_hum', \n",
    "'max_sea_level_pressure_inches': 'max_slp', \n",
    "'mean_sea_level_pressure_inches': 'mean_slp', \n",
    "'min_sea_level_pressure_inches': 'min_slp', \n",
    "'max_visibility_miles': 'max_vis', \n",
    "'mean_visibility_miles': 'mean_vis', \n",
    "'min_visibility_miles': 'min_vis', \n",
    "'max_wind_Speed_mph': 'max_wind', \n",
    "'mean_wind_speed_mph': 'mean_wind', \n",
    "'max_gust_speed_mph': 'max_gust', \n",
    "'precipitation_inches': 'precipitation', \n",
    "'cloud_cover': 'cloud', \n",
    "'wind_dir_degrees': 'wind_dir', \n",
    "'zip_code': 'z_code'}\n",
    "\n",
    "weather.rename(columns=rename, inplace=True)\n",
    "\n",
    "weather['date'] = pd.to_datetime(weather['date'], format='%m/%d/%Y')\n",
    "weather.loc[weather.events == 'rain', 'events'] = 'Rain'\n",
    "weather.loc[weather.events.isnull(), 'events'] = 'Normal'\n",
    "weather = weather.merge(pd.get_dummies(weather.events), left_index=True, right_index=True)\n",
    "#weather.events = weather.events.map(lambda x: events(x))\n",
    "\n",
    "weather.loc[weather.precipitation == 'T', 'precipitation'] = 0\n",
    "weather.precipitation = weather.precipitation.astype(np.float64)\n",
    "\n",
    "for i in weather:\n",
    "    weather.drop(weather.loc[weather[i].isnull()].index, inplace=True)"
   ]
  },
  {
   "cell_type": "code",
   "execution_count": 11,
   "metadata": {
    "collapsed": true
   },
   "outputs": [],
   "source": [
    "df = pd.merge(train, stations, how='right', on='id')"
   ]
  },
  {
   "cell_type": "code",
   "execution_count": 12,
   "metadata": {
    "scrolled": false
   },
   "outputs": [
    {
     "data": {
      "text/plain": [
       "(547395, 14)"
      ]
     },
     "execution_count": 12,
     "metadata": {},
     "output_type": "execute_result"
    }
   ],
   "source": [
    "df.shape"
   ]
  },
  {
   "cell_type": "code",
   "execution_count": 13,
   "metadata": {},
   "outputs": [],
   "source": [
    "df = pd.merge(df, weather, how='right', on='date')"
   ]
  },
  {
   "cell_type": "code",
   "execution_count": 14,
   "metadata": {
    "scrolled": false
   },
   "outputs": [
    {
     "data": {
      "text/plain": [
       "(2035506, 42)"
      ]
     },
     "execution_count": 14,
     "metadata": {},
     "output_type": "execute_result"
    }
   ],
   "source": [
    "df.shape"
   ]
  },
  {
   "cell_type": "code",
   "execution_count": 15,
   "metadata": {},
   "outputs": [],
   "source": [
    "df.drop(['s_date','date','events'], axis=1, inplace=True)"
   ]
  },
  {
   "cell_type": "code",
   "execution_count": 16,
   "metadata": {},
   "outputs": [
    {
     "data": {
      "text/plain": [
       "duration             0\n",
       "id                   0\n",
       "b_id                 0\n",
       "sub_type             0\n",
       "year                 0\n",
       "month                0\n",
       "day                  0\n",
       "weekday              0\n",
       "hour                 0\n",
       "minute               0\n",
       "dock_count           0\n",
       "city                 0\n",
       "max_temp             0\n",
       "mean_temp            0\n",
       "min_temp             0\n",
       "max_dew              0\n",
       "mean_dew             0\n",
       "min_dew              0\n",
       "max_hum              0\n",
       "mean_hum             0\n",
       "min_hum              0\n",
       "max_slp              0\n",
       "mean_slp             0\n",
       "min_slp              0\n",
       "max_vis              0\n",
       "mean_vis             0\n",
       "min_vis              0\n",
       "max_wind             0\n",
       "mean_wind            0\n",
       "max_gust             0\n",
       "precipitation        0\n",
       "cloud                0\n",
       "wind_dir             0\n",
       "z_code               0\n",
       "Fog                  0\n",
       "Fog-Rain             0\n",
       "Normal               0\n",
       "Rain                 0\n",
       "Rain-Thunderstorm    0\n",
       "dtype: int64"
      ]
     },
     "execution_count": 16,
     "metadata": {},
     "output_type": "execute_result"
    }
   ],
   "source": [
    "df.isnull().sum()"
   ]
  },
  {
   "cell_type": "code",
   "execution_count": 17,
   "metadata": {},
   "outputs": [
    {
     "name": "stdout",
     "output_type": "stream",
     "text": [
      "27.1390478611\n"
     ]
    }
   ],
   "source": [
    "end = time.time()\n",
    "print end-start"
   ]
  },
  {
   "cell_type": "code",
   "execution_count": 18,
   "metadata": {},
   "outputs": [],
   "source": [
    "from sklearn.preprocessing import normalize\n",
    "Y = df.duration.values\n",
    "df = normalize(df.drop(['duration'], axis=1))"
   ]
  },
  {
   "cell_type": "code",
   "execution_count": 24,
   "metadata": {},
   "outputs": [],
   "source": [
    "import pandas as pd\n",
    "import numpy as np\n",
    "from scipy.stats.stats import pearsonr  \n",
    "from pandas.tseries.holiday import USFederalHolidayCalendar\n",
    "from pandas.tseries.offsets import CustomBusinessDay\n",
    "from datetime import datetime\n",
    "from sklearn.model_selection import train_test_split\n",
    "import math\n",
    "import matplotlib.pyplot as plt\n",
    "from sklearn.feature_selection import SelectKBest\n",
    "from sklearn.pipeline import Pipeline\n",
    "from sklearn.decomposition import PCA\n",
    "from sklearn.grid_search import GridSearchCV\n",
    "from sklearn.pipeline import FeatureUnion\n",
    "from sklearn.ensemble import RandomForestRegressor, GradientBoostingRegressor, AdaBoostRegressor\n",
    "from sklearn.tree import DecisionTreeRegressor\n",
    "from sklearn.linear_model import LogisticRegression\n",
    "from sklearn.model_selection import cross_val_score\n",
    "from sklearn.cross_validation import KFold\n",
    "from sklearn.metrics import mean_squared_error, median_absolute_error"
   ]
  },
  {
   "cell_type": "code",
   "execution_count": 25,
   "metadata": {},
   "outputs": [],
   "source": [
    "X_train, X_test, y_train, y_test = train_test_split(df, Y, test_size=0.2, random_state = 2)"
   ]
  },
  {
   "cell_type": "code",
   "execution_count": 26,
   "metadata": {
    "collapsed": true
   },
   "outputs": [],
   "source": [
    "def scoring(clf):\n",
    "    scores = cross_val_score(clf, X_train, y_train, cv=15, n_jobs=1, scoring = 'neg_median_absolute_error')\n",
    "    print (np.median(scores) * -1)"
   ]
  },
  {
   "cell_type": "code",
   "execution_count": null,
   "metadata": {
    "collapsed": true
   },
   "outputs": [],
   "source": [
    "rfr = RandomForestRegressor(n_estimators = 55,\n",
    "                            min_samples_leaf = 3,\n",
    "                            random_state = 2)\n",
    "scoring(rfr)"
   ]
  },
  {
   "cell_type": "code",
   "execution_count": null,
   "metadata": {
    "collapsed": true
   },
   "outputs": [],
   "source": [
    "gbr = GradientBoostingRegressor(learning_rate = 0.12,\n",
    "                                n_estimators = 150,\n",
    "                                max_depth = 8,\n",
    "                                min_samples_leaf = 1,\n",
    "                                random_state = 2)\n",
    "scoring(gbr)"
   ]
  },
  {
   "cell_type": "code",
   "execution_count": null,
   "metadata": {
    "collapsed": true
   },
   "outputs": [],
   "source": [
    "dtr = DecisionTreeRegressor(min_samples_leaf = 3,\n",
    "                            max_depth = 8,\n",
    "                            random_state = 2)\n",
    "scoring(dtr)"
   ]
  },
  {
   "cell_type": "code",
   "execution_count": null,
   "metadata": {
    "collapsed": true
   },
   "outputs": [],
   "source": [
    "abr = AdaBoostRegressor(n_estimators = 100,\n",
    "                        learning_rate = 0.1,\n",
    "                        loss = 'linear',\n",
    "                        random_state = 2)\n",
    "scoring(abr)"
   ]
  }
 ],
 "metadata": {
  "kernelspec": {
   "display_name": "Python 2",
   "language": "python",
   "name": "python2"
  },
  "language_info": {
   "codemirror_mode": {
    "name": "ipython",
    "version": 2
   },
   "file_extension": ".py",
   "mimetype": "text/x-python",
   "name": "python",
   "nbconvert_exporter": "python",
   "pygments_lexer": "ipython2",
   "version": "2.7.13"
  }
 },
 "nbformat": 4,
 "nbformat_minor": 2
}
