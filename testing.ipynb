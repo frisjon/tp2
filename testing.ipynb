{
 "cells": [
  {
   "cell_type": "markdown",
   "metadata": {},
   "source": [
    "### predicción de duración a partir de distancias entre estaciones\n",
    "\n",
    "Primero intento ver como manejar los datos, es decir, determinar las partes que son importantes. Lo hago con pandas.\n",
    "\n",
    "Despues de haber hecho eso, ya implementaria las cosas que se tienen que hacer\n",
    "\n",
    "Digo esto porque, si no está claro cuales son los objetivos y no se consideran futuros problemas, van a surgir complicaciones mas adelante"
   ]
  },
  {
   "cell_type": "code",
   "execution_count": 8,
   "metadata": {
    "collapsed": true
   },
   "outputs": [],
   "source": [
    "from math import cos,sqrt,pi\n",
    "\n",
    "def dist(a, b):\n",
    "    p = pi / 180\n",
    "    x = (a[0] * p, a[1] * p)\n",
    "    y = (b[0] * p, b[1] * p)\n",
    "    f_m = (x[0] + y[0]) / 2\n",
    "    d_lat = x[0] - y[0]\n",
    "    d_lon = x[1] - y[1]\n",
    "    return sqrt((d_lat)**2 + (cos(f_m) * d_lon)**2)"
   ]
  },
  {
   "cell_type": "code",
   "execution_count": 1,
   "metadata": {
    "collapsed": true
   },
   "outputs": [],
   "source": [
    "import numpy as np\n",
    "import tensorflow as tf\n",
    "import pandas as pd"
   ]
  },
  {
   "cell_type": "code",
   "execution_count": null,
   "metadata": {
    "collapsed": true
   },
   "outputs": [],
   "source": [
    "#train = np.genfromtxt('./data/trip_train.csv', delimiter=',')"
   ]
  },
  {
   "cell_type": "code",
   "execution_count": 35,
   "metadata": {
    "collapsed": true
   },
   "outputs": [],
   "source": [
    "# duracion\n",
    "#d[1:,1]"
   ]
  },
  {
   "cell_type": "code",
   "execution_count": 29,
   "metadata": {
    "collapsed": true
   },
   "outputs": [],
   "source": [
    "stations = pd.read_csv('./data/station.csv', low_memory=False)"
   ]
  },
  {
   "cell_type": "code",
   "execution_count": 7,
   "metadata": {
    "collapsed": true
   },
   "outputs": [],
   "source": [
    "train = pd.read_csv('./data/trip_train.csv', low_memory=False)"
   ]
  },
  {
   "cell_type": "code",
   "execution_count": 5,
   "metadata": {
    "collapsed": true
   },
   "outputs": [],
   "source": [
    "l=['start_date','start_station_name','end_station_name','end_date','zip_code','subscription_type','id']\n",
    "for i in l: \n",
    "    try: train.drop(i, axis=1, inplace=True)\n",
    "    except: pass\n",
    "#train.head(3)"
   ]
  },
  {
   "cell_type": "code",
   "execution_count": 8,
   "metadata": {
    "scrolled": true
   },
   "outputs": [
    {
     "data": {
      "text/html": [
       "<div>\n",
       "<style>\n",
       "    .dataframe thead tr:only-child th {\n",
       "        text-align: right;\n",
       "    }\n",
       "\n",
       "    .dataframe thead th {\n",
       "        text-align: left;\n",
       "    }\n",
       "\n",
       "    .dataframe tbody tr th {\n",
       "        vertical-align: top;\n",
       "    }\n",
       "</style>\n",
       "<table border=\"1\" class=\"dataframe\">\n",
       "  <thead>\n",
       "    <tr style=\"text-align: right;\">\n",
       "      <th></th>\n",
       "      <th>id</th>\n",
       "      <th>duration</th>\n",
       "      <th>start_date</th>\n",
       "      <th>start_station_name</th>\n",
       "      <th>start_station_id</th>\n",
       "      <th>end_date</th>\n",
       "      <th>end_station_name</th>\n",
       "      <th>end_station_id</th>\n",
       "      <th>bike_id</th>\n",
       "      <th>subscription_type</th>\n",
       "      <th>zip_code</th>\n",
       "    </tr>\n",
       "  </thead>\n",
       "  <tbody>\n",
       "    <tr>\n",
       "      <th>0</th>\n",
       "      <td>907649</td>\n",
       "      <td>396</td>\n",
       "      <td>8/27/2015 8:36</td>\n",
       "      <td>Harry Bridges Plaza (Ferry Building)</td>\n",
       "      <td>50</td>\n",
       "      <td>8/27/2015 8:43</td>\n",
       "      <td>Embarcadero at Sansome</td>\n",
       "      <td>60</td>\n",
       "      <td>187</td>\n",
       "      <td>Subscriber</td>\n",
       "      <td>94602</td>\n",
       "    </tr>\n",
       "    <tr>\n",
       "      <th>1</th>\n",
       "      <td>384043</td>\n",
       "      <td>636</td>\n",
       "      <td>7/28/2014 22:06</td>\n",
       "      <td>Market at 10th</td>\n",
       "      <td>67</td>\n",
       "      <td>7/28/2014 22:17</td>\n",
       "      <td>Washington at Kearny</td>\n",
       "      <td>46</td>\n",
       "      <td>417</td>\n",
       "      <td>Subscriber</td>\n",
       "      <td>94133</td>\n",
       "    </tr>\n",
       "    <tr>\n",
       "      <th>2</th>\n",
       "      <td>316176</td>\n",
       "      <td>334</td>\n",
       "      <td>6/9/2014 8:42</td>\n",
       "      <td>Market at Sansome</td>\n",
       "      <td>77</td>\n",
       "      <td>6/9/2014 8:47</td>\n",
       "      <td>2nd at Folsom</td>\n",
       "      <td>62</td>\n",
       "      <td>281</td>\n",
       "      <td>Subscriber</td>\n",
       "      <td>94107</td>\n",
       "    </tr>\n",
       "  </tbody>\n",
       "</table>\n",
       "</div>"
      ],
      "text/plain": [
       "       id  duration       start_date                    start_station_name  \\\n",
       "0  907649       396   8/27/2015 8:36  Harry Bridges Plaza (Ferry Building)   \n",
       "1  384043       636  7/28/2014 22:06                        Market at 10th   \n",
       "2  316176       334    6/9/2014 8:42                     Market at Sansome   \n",
       "\n",
       "   start_station_id         end_date        end_station_name  end_station_id  \\\n",
       "0                50   8/27/2015 8:43  Embarcadero at Sansome              60   \n",
       "1                67  7/28/2014 22:17    Washington at Kearny              46   \n",
       "2                77    6/9/2014 8:47           2nd at Folsom              62   \n",
       "\n",
       "   bike_id subscription_type zip_code  \n",
       "0      187        Subscriber    94602  \n",
       "1      417        Subscriber    94133  \n",
       "2      281        Subscriber    94107  "
      ]
     },
     "execution_count": 8,
     "metadata": {},
     "output_type": "execute_result"
    }
   ],
   "source": [
    "train.head(3)"
   ]
  },
  {
   "cell_type": "markdown",
   "metadata": {},
   "source": [
    "Ahora voy a intentar ver como separar el set de entrenamiento en set de entrenamiento, validacion y cross validation.\n"
   ]
  },
  {
   "cell_type": "code",
   "execution_count": 16,
   "metadata": {},
   "outputs": [
    {
     "name": "stdout",
     "output_type": "stream",
     "text": [
      "1\n",
      "293\n",
      "1877\n"
     ]
    }
   ],
   "source": [
    "for i in range(1,train.shape[0]/2):\n",
    "    if train.shape[0]%i==0: print i"
   ]
  },
  {
   "cell_type": "markdown",
   "metadata": {},
   "source": [
    "hay 2 numeros que dividen a todos los datos en partes iguales.\n",
    "\n",
    "podemos tener 293 grupos de 1877 elementos cada uno, o 1877 grupos de 293 elementos.\n",
    "\n"
   ]
  },
  {
   "cell_type": "code",
   "execution_count": 38,
   "metadata": {
    "collapsed": true
   },
   "outputs": [],
   "source": [
    "l=['start_date','start_station_name','end_station_name','end_date','zip_code','subscription_type','installation_date','city','name','dock_count']\n",
    "for i in l:\n",
    "    try: stations.drop(i, axis=1, inplace=True)\n",
    "    except: pass\n",
    "#stations.head(3)"
   ]
  },
  {
   "cell_type": "markdown",
   "metadata": {},
   "source": [
    "determino los elementos de tf que se van a utilizar.\n",
    "\n",
    "en esta parte, planteo como obtener las distancias entre las estaciones, ya que los datos que seran ingresados cuando el algoritmo ya este listo no incluyen esa informacion\n",
    "\n",
    "Las reglas no dicen nada de entrenar al algoritmo con los datos de weather, stations y status, asi que podemos obtener distancias entre estaciones segun sus coordenadas que estan en stations.\n",
    "\n",
    "---\n",
    "\n",
    "sin incluir los sets de datos *extra*, podemos considerar obtener las frecuencias de trayectos. A lo que me refiero es que, hay trayectos que aparecen mas que otros. Con eso en mente podemos relacionar trayectos con un determinado tiempo de duracion, y si el dato a evaluar tiene ese trayecto podemos hacer un estimativo del tiempo de duracion.\n",
    "\n",
    "tener en cuenta boostrapping y bagging y k-fold\n"
   ]
  },
  {
   "cell_type": "code",
   "execution_count": 29,
   "metadata": {},
   "outputs": [
    {
     "name": "stdout",
     "output_type": "stream",
     "text": [
      "V: [ nan] W: [ nan] b: [ nan] loss: nan\n"
     ]
    }
   ],
   "source": [
    "# Model parameters\n",
    "W = tf.Variable([.3], tf.float32)\n",
    "b = tf.Variable([-.3], tf.float32)\n",
    "\n",
    "# Model input and output\n",
    "x = tf.placeholder(tf.float32)\n",
    "linear_model = W * x + b\n",
    "y = tf.placeholder(tf.float32)\n",
    "\n",
    "# loss\n",
    "loss = tf.reduce_sum(tf.square(linear_model - y)) # sum of the squares\n",
    "\n",
    "# optimizer\n",
    "optimizer = tf.train.GradientDescentOptimizer(0.01)\n",
    "train = optimizer.minimize(loss)\n",
    "\n",
    "# training data\n",
    "x_train = d[1:,4]\n",
    "y_train = d[1:,1]#[0,-1,-2,-3]\n",
    "\n",
    "# training loop\n",
    "init = tf.global_variables_initializer()\n",
    "sess = tf.Session()\n",
    "sess.run(init) # reset values to wrong\n",
    "for i in range(100):\n",
    "    sess.run(train, {x:x_train, y:y_train})\n",
    "\n",
    "# evaluate training accuracy\n",
    "curr_W, curr_b, curr_loss  = sess.run([W, b, loss], {x:x_train, y:y_train})\n",
    "print(\"W: %s b: %s loss: %s\"%(curr_W, curr_b, curr_loss))"
   ]
  }
 ],
 "metadata": {
  "kernelspec": {
   "display_name": "Python 2",
   "language": "python",
   "name": "python2"
  },
  "language_info": {
   "codemirror_mode": {
    "name": "ipython",
    "version": 2
   },
   "file_extension": ".py",
   "mimetype": "text/x-python",
   "name": "python",
   "nbconvert_exporter": "python",
   "pygments_lexer": "ipython2",
   "version": "2.7.13"
  }
 },
 "nbformat": 4,
 "nbformat_minor": 2
}
